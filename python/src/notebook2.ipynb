{
 "cells": [
  {
   "cell_type": "code",
   "execution_count": 2946,
   "id": "df3cb064",
   "metadata": {},
   "outputs": [
    {
     "name": "stdout",
     "output_type": "stream",
     "text": [
      "The autoreload extension is already loaded. To reload it, use:\n",
      "  %reload_ext autoreload\n"
     ]
    }
   ],
   "source": [
    "%load_ext autoreload\n",
    "%autoreload 2"
   ]
  },
  {
   "cell_type": "code",
   "execution_count": 2947,
   "id": "2fd1c1be",
   "metadata": {},
   "outputs": [],
   "source": [
    "import numpy as np\n",
    "import matplotlib.pyplot as plt\n",
    "\n",
    "\n",
    "from neuron_population import NeuronPopulation\n",
    "from connectome import Connectome\n",
    "from overhead import Simulation"
   ]
  },
  {
   "cell_type": "code",
   "execution_count": 2948,
   "id": "9c42b7be",
   "metadata": {},
   "outputs": [],
   "source": [
    "dt = 0.1"
   ]
  },
  {
   "cell_type": "code",
   "execution_count": 2949,
   "id": "8b45706f",
   "metadata": {},
   "outputs": [],
   "source": [
    "# Neuron population parameters\n",
    "layer_distribution = [2, 8, 2]\n",
    "n_layers = 3\n",
    "neuron_types = [\"TRN\", \"p23\", \"nb\"]\n",
    "n_neuron_types = len(neuron_types)\n",
    "inhibitory = [False, True, True]\n",
    "dist_layer1 = np.array([1, 0, 0])\n",
    "dist_layer2 = np.array([0, 6, 2])\n",
    "dist_layer3 = np.array([1, 0, 0])\n",
    "neuron_distribution = [dist_layer1, dist_layer2, dist_layer3]\n",
    "threshold_decay = np.exp(-dt / 5)\n",
    "layer_distances = np.zeros((n_layers, n_layers))\n",
    "# mm\n",
    "layer_distances[0, 0] = 0.6\n",
    "layer_distances[1, 1] = 0.6\n",
    "layer_distances[2, 2] = 0.6\n",
    "layer_distances[0, 1] = 5.0\n",
    "layer_distances[1, 0] = 5.0\n",
    "layer_distances[1, 2] = 5.0\n",
    "layer_distances[2, 1] = 5.0\n",
    "layer_distances[0, 2] = 10.0\n",
    "layer_distances[2, 0] = 10.0"
   ]
  },
  {
   "cell_type": "code",
   "execution_count": 2950,
   "id": "2b824148",
   "metadata": {},
   "outputs": [],
   "source": [
    "neuron_pop = NeuronPopulation(\n",
    "    layer_distribution,\n",
    "    neuron_distribution,\n",
    "    layer_distances,\n",
    "    neuron_types,\n",
    "    inhibitory,\n",
    "    threshold_decay,\n",
    "    threshold_mult=1.15\n",
    ")"
   ]
  },
  {
   "cell_type": "code",
   "execution_count": 2951,
   "id": "0991eadb",
   "metadata": {},
   "outputs": [],
   "source": [
    "# Connectome\n",
    "max_synapses = 8\n",
    "synapse_strength = np.ones((n_layers, n_layers))\n",
    "# neuron_types = [\"p23\", \"TRN\", \"b\", \"nb\"]\n",
    "connectivity_probability = np.ones((n_layers, n_layers, n_neuron_types, n_neuron_types+2))\n",
    "\n",
    "\n",
    "connectivity_probability[:,:,:,-2] = 0.0  # Self connections\n",
    "connectivity_probability[:,:,:,-1] = 0.0  # No empty connections\n",
    "# No inter-connections for input and output layers\n",
    "connectivity_probability[0, 0, :, :-2] = 0\n",
    "connectivity_probability[2, 2, :, :-2] = 0\n",
    "# Only flow in one direction\n",
    "connectivity_probability[1, 0, :, :-2] = 0.0\n",
    "connectivity_probability[2, 1, :, :-2] = 0.0\n",
    "connectivity_probability[2, 0, :, :-2] = 0.0"
   ]
  },
  {
   "cell_type": "code",
   "execution_count": 2952,
   "id": "3356d1ce",
   "metadata": {},
   "outputs": [],
   "source": [
    "connectome = Connectome(\n",
    "    max_synapses,\n",
    "    neuron_pop,\n",
    "    connectivity_probability,\n",
    "    synapse_strength,\n",
    ")"
   ]
  },
  {
   "cell_type": "code",
   "execution_count": 2953,
   "id": "2292e06d",
   "metadata": {},
   "outputs": [
    {
     "data": {
      "text/plain": [
       "array([[ 2,  9, 10,  8,  2,  9,  5,  2],\n",
       "       [10,  7,  7,  7,  6,  3, 11, 10],\n",
       "       [ 9,  6, 10,  9,  7, 11,  5, 11],\n",
       "       [ 9,  4,  9,  9,  9,  4,  6,  6],\n",
       "       [ 5,  2,  9,  2,  2,  6,  7,  7],\n",
       "       [ 3, 10,  2,  9,  6,  9,  2,  9],\n",
       "       [10,  2,  3,  3,  2,  8,  3, 11],\n",
       "       [ 4,  6,  6,  5, 10,  9,  5,  8],\n",
       "       [ 6,  3,  6,  6,  6,  6,  5,  5],\n",
       "       [ 6,  4,  8,  3,  8,  8,  6,  4],\n",
       "       [ 0,  0,  0,  0,  0,  0,  0,  0],\n",
       "       [ 0,  0,  0,  0,  0,  0,  0,  0]])"
      ]
     },
     "execution_count": 2953,
     "metadata": {},
     "output_type": "execute_result"
    }
   ],
   "source": [
    "connectome.M"
   ]
  },
  {
   "cell_type": "code",
   "execution_count": 2954,
   "id": "8bcdc149",
   "metadata": {},
   "outputs": [],
   "source": [
    "# connectome.distances"
   ]
  },
  {
   "cell_type": "code",
   "execution_count": 2955,
   "id": "25acf933",
   "metadata": {},
   "outputs": [],
   "source": [
    "sim = Simulation(connectome, dt, stepper_type=\"adapt\")"
   ]
  },
  {
   "cell_type": "code",
   "execution_count": 2956,
   "id": "b53bbaf5",
   "metadata": {},
   "outputs": [],
   "source": [
    "weights_t0 = connectome.W.copy()"
   ]
  },
  {
   "cell_type": "code",
   "execution_count": 2957,
   "id": "7f50074e",
   "metadata": {},
   "outputs": [
    {
     "data": {
      "text/plain": [
       "array([[1.2988028 , 1.02377205, 1.84046062, 2.23227984, 1.0133207 ,\n",
       "        0.0402465 , 1.59752354, 1.0627039 ],\n",
       "       [0.62481214, 1.59743851, 1.25628308, 1.39397717, 0.6768585 ,\n",
       "        1.0414135 , 0.67950301, 1.51131249],\n",
       "       [0.29627879, 0.8514966 , 1.68649744, 1.01876084, 0.97162253,\n",
       "        1.69881795, 1.056881  , 0.2157241 ],\n",
       "       [1.20151758, 0.75879779, 1.81741162, 0.81122566, 1.98612607,\n",
       "        0.55685939, 0.70248554, 0.12434599],\n",
       "       [1.28268788, 0.92988017, 0.03672527, 0.64166448, 1.21653096,\n",
       "        0.48072334, 0.87194273, 1.12378317],\n",
       "       [1.16564149, 0.9981144 , 1.14063369, 1.36586569, 0.2011059 ,\n",
       "        0.67105643, 0.85272589, 1.01271175],\n",
       "       [0.64952046, 1.29312641, 1.21463898, 1.14361447, 1.74136121,\n",
       "        2.05862055, 0.86663101, 1.62400888],\n",
       "       [1.58732557, 1.26771744, 0.        , 1.02048615, 1.72361502,\n",
       "        0.8315294 , 0.94126146, 1.670102  ],\n",
       "       [0.76674098, 1.27930135, 0.1007322 , 1.25371399, 1.61363769,\n",
       "        0.71345326, 0.65568589, 1.30591988],\n",
       "       [0.38295524, 1.1343538 , 0.09593376, 0.        , 0.75831277,\n",
       "        1.0273166 , 1.32049387, 1.97307062],\n",
       "       [0.        , 0.        , 0.        , 0.        , 0.        ,\n",
       "        0.        , 0.        , 0.        ],\n",
       "       [0.        , 0.        , 0.        , 0.        , 0.        ,\n",
       "        0.        , 0.        , 0.        ]])"
      ]
     },
     "execution_count": 2957,
     "metadata": {},
     "output_type": "execute_result"
    }
   ],
   "source": [
    "connectome.W.copy()"
   ]
  },
  {
   "cell_type": "code",
   "execution_count": 2958,
   "id": "da28a50a",
   "metadata": {},
   "outputs": [],
   "source": [
    "I_ext = np.zeros((neuron_pop.n_neurons))\n",
    "I_ext[0] = 100\n",
    "I_ext[-2] = 0\n",
    "\n",
    "# I_ext = 100\n",
    "\n",
    "for i in range(10000):\n",
    "    sim.step(I_ext=I_ext)\n",
    "    # print(sim.synapse_dynamics.g_ST)\n",
    "    # if np.sum(sim.pre_spikes) > 0:\n",
    "        # print(f\"Step {i}, {sim.t_now}, heap size: {(sim.axonal_dynamics._heap)}\")\n",
    "        # print(sim.pre_spikes)\n",
    "\n",
    "weights_t1 = connectome.W.copy()"
   ]
  },
  {
   "cell_type": "code",
   "execution_count": 2959,
   "id": "edbe4fcb",
   "metadata": {},
   "outputs": [
    {
     "data": {
      "text/plain": [
       "array([0.00000000e+00, 0.00000000e+00, 1.11631645e+02, 2.36988698e+02,\n",
       "       4.24976634e+05, 1.24002524e+02, 2.88918270e+02, 7.71930711e+01,\n",
       "       8.91695658e+01, 3.85687621e+02, 2.89089283e+02, 1.67954811e+03])"
      ]
     },
     "execution_count": 2959,
     "metadata": {},
     "output_type": "execute_result"
    }
   ],
   "source": [
    "sim.synapse_dynamics.g_ST"
   ]
  },
  {
   "cell_type": "code",
   "execution_count": 2960,
   "id": "18201338",
   "metadata": {},
   "outputs": [
    {
     "data": {
      "text/plain": [
       "array([False, False,  True,  True,  True,  True,  True,  True,  True,\n",
       "        True, False, False])"
      ]
     },
     "execution_count": 2960,
     "metadata": {},
     "output_type": "execute_result"
    }
   ],
   "source": [
    "neuron_pop.inhibitory_mask"
   ]
  },
  {
   "cell_type": "code",
   "execution_count": 2961,
   "id": "7e0e9031",
   "metadata": {},
   "outputs": [
    {
     "data": {
      "text/plain": [
       "array([-63.82272857, -60.        , -82.01723498, -83.84787697,\n",
       "       -30.71962861, -80.3069687 , -82.93357464, -78.05478995,\n",
       "       -81.23008056, -83.7209163 ,  -1.28931996, -55.        ])"
      ]
     },
     "execution_count": 2961,
     "metadata": {},
     "output_type": "execute_result"
    }
   ],
   "source": [
    "sim.neuron_states.V"
   ]
  },
  {
   "cell_type": "code",
   "execution_count": 2962,
   "id": "59e177ec",
   "metadata": {},
   "outputs": [
    {
     "data": {
      "text/plain": [
       "array([[2.08606659e-01, 1.25783126e+00, 1.12958763e+00, 7.17298377e-01,\n",
       "        2.28793687e-01, 1.50647096e+01, 4.98351529e-01, 1.91298951e+00],\n",
       "       [8.45975401e-01, 2.49505240e+03, 1.27961966e+00, 5.71175122e-01,\n",
       "        1.39840966e+00, 1.83104559e+03, 1.03771204e+00, 1.83683974e-01],\n",
       "       [6.04826338e-01, 2.08951036e-01, 2.58578622e-02, 1.44186813e-01,\n",
       "        2.73363615e-01, 7.10124792e-01, 2.05321497e-01, 2.64623849e-01],\n",
       "       [1.11930131e+00, 6.68520248e-01, 2.56308930e-01, 9.61691104e-01,\n",
       "        2.97073755e-01, 4.72483499e-01, 1.91613892e-01, 7.13039279e-01],\n",
       "       [4.35037884e-01, 2.90575186e-01, 1.16635090e+00, 1.09814998e+00,\n",
       "        3.91296903e-01, 6.97091663e-01, 8.32178011e-01, 1.44013206e+01],\n",
       "       [5.21938851e+03, 1.87267292e+00, 0.00000000e+00, 4.81190247e-01,\n",
       "        1.15444837e+00, 5.85470766e-01, 4.43833399e-01, 5.65531215e-01],\n",
       "       [1.13263021e+00, 1.22844261e+00, 1.48801670e-01, 1.85198702e+00,\n",
       "        2.38366652e+00, 1.05391356e+00, 3.09175834e-01, 6.15780931e-01],\n",
       "       [5.65701699e-01, 3.72994255e+03, 3.24851643e-02, 0.00000000e+00,\n",
       "        2.56780448e-01, 3.47870732e-01, 1.95063430e+00, 6.48778189e+03]])"
      ]
     },
     "execution_count": 2962,
     "metadata": {},
     "output_type": "execute_result"
    }
   ],
   "source": [
    "weights_t1[neuron_pop.inhibitory_mask]"
   ]
  },
  {
   "cell_type": "code",
   "execution_count": 2963,
   "id": "3b34bc6b",
   "metadata": {},
   "outputs": [
    {
     "data": {
      "text/plain": [
       "array([[-1.03069334e+00, -3.53486947e-01, -2.55319877e-01,\n",
       "        -1.53562612e+00, -8.04142778e-01, -1.38962700e-02,\n",
       "        -9.00876465e-01, -8.43331902e-01],\n",
       "       [-2.06323471e-01, -1.22128024e+00, -9.60458698e-01,\n",
       "        -1.06572915e+00,  3.22997259e-01, -4.14014875e-02,\n",
       "         5.34616644e+00, -4.99060789e-01],\n",
       "       [-8.76721320e-02,  4.06334662e-01, -5.56909804e-01,\n",
       "        -3.01462466e-01, -7.42828845e-01,  1.33658916e+01,\n",
       "        -5.58529474e-01,  1.69726541e+00],\n",
       "       [-3.55542183e-01,  2.49429360e+03, -5.37791958e-01,\n",
       "        -2.40050537e-01, -5.87716408e-01,  1.83048873e+03,\n",
       "         3.35226501e-01,  5.93379795e-02],\n",
       "       [-6.77861543e-01, -7.20929130e-01, -1.08674091e-02,\n",
       "        -4.97477667e-01, -9.43167343e-01,  2.29401452e-01,\n",
       "        -6.66621235e-01, -8.59159317e-01],\n",
       "       [-4.63401824e-02, -3.29594154e-01, -8.84324757e-01,\n",
       "        -4.04174583e-01,  9.59678516e-02, -1.98572931e-01,\n",
       "        -6.61111997e-01, -2.99672475e-01],\n",
       "       [-2.14482573e-01, -1.00255122e+00, -4.82880821e-02,\n",
       "        -4.54644964e-02, -1.35006431e+00, -1.36152889e+00,\n",
       "        -3.44529937e-02,  1.27773118e+01],\n",
       "       [ 5.21780118e+03,  6.04955481e-01,  0.00000000e+00,\n",
       "        -5.39295898e-01, -5.69166655e-01, -2.46058637e-01,\n",
       "        -4.97428061e-01, -1.10457079e+00],\n",
       "       [ 3.65889230e-01, -5.08587405e-02,  4.80694652e-02,\n",
       "         5.98273028e-01,  7.70028825e-01,  3.40460302e-01,\n",
       "        -3.46510055e-01, -6.90138948e-01],\n",
       "       [ 1.82746459e-01,  3.72880820e+03, -6.34485995e-02,\n",
       "         0.00000000e+00, -5.01532319e-01, -6.79445871e-01,\n",
       "         6.30140427e-01,  6.48580882e+03],\n",
       "       [ 0.00000000e+00,  0.00000000e+00,  0.00000000e+00,\n",
       "         0.00000000e+00,  0.00000000e+00,  0.00000000e+00,\n",
       "         0.00000000e+00,  0.00000000e+00],\n",
       "       [ 0.00000000e+00,  0.00000000e+00,  0.00000000e+00,\n",
       "         0.00000000e+00,  0.00000000e+00,  0.00000000e+00,\n",
       "         0.00000000e+00,  0.00000000e+00]])"
      ]
     },
     "execution_count": 2963,
     "metadata": {},
     "output_type": "execute_result"
    }
   ],
   "source": [
    "weights_t1 -   weights_t0"
   ]
  },
  {
   "cell_type": "code",
   "execution_count": 2965,
   "id": "e7dca28e",
   "metadata": {},
   "outputs": [
    {
     "data": {
      "image/png": "[encoded data removed]",
      "text/plain": [
       "<Figure size 640x480 with 1 Axes>"
      ]
     },
     "metadata": {},
     "output_type": "display_data"
    }
   ],
   "source": [
    "plt.plot(np.array(sim.stats.Vs)[:, neuron_pop.get_neurons_from_layer(2)])\n",
    "plt.show()"
   ]
  }
 ],
 "metadata": {
  "kernelspec": {
   "display_name": "neuro",
   "language": "python",
   "name": "python3"
  },
  "language_info": {
   "codemirror_mode": {
    "name": "ipython",
    "version": 3
   },
   "file_extension": ".py",
   "mimetype": "text/x-python",
   "name": "python",
   "nbconvert_exporter": "python",
   "pygments_lexer": "ipython3",
   "version": "3.13.1"
  }
 },
 "nbformat": 4,
 "nbformat_minor": 5
}
