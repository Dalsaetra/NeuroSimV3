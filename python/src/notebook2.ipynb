{
 "cells": [
  {
   "cell_type": "code",
   "execution_count": 2088,
   "id": "df3cb064",
   "metadata": {},
   "outputs": [
    {
     "name": "stdout",
     "output_type": "stream",
     "text": [
      "The autoreload extension is already loaded. To reload it, use:\n",
      "  %reload_ext autoreload\n"
     ]
    }
   ],
   "source": [
    "%load_ext autoreload\n",
    "%autoreload 2"
   ]
  },
  {
   "cell_type": "code",
   "execution_count": 2089,
   "id": "2fd1c1be",
   "metadata": {},
   "outputs": [],
   "source": [
    "import numpy as np\n",
    "import matplotlib.pyplot as plt\n",
    "\n",
    "\n",
    "from neuron_population import NeuronPopulation\n",
    "from connectome import Connectome\n",
    "from overhead import Simulation"
   ]
  },
  {
   "cell_type": "code",
   "execution_count": 2090,
   "id": "9c42b7be",
   "metadata": {},
   "outputs": [],
   "source": [
    "dt = 0.1"
   ]
  },
  {
   "cell_type": "code",
   "execution_count": 2091,
   "id": "8b45706f",
   "metadata": {},
   "outputs": [],
   "source": [
    "# Neuron population parameters\n",
    "layer_distribution = [2, 10, 2]\n",
    "n_layers = 3\n",
    "neuron_types = [\"TRN\", \"p23\", \"nb\"]\n",
    "n_neuron_types = len(neuron_types)\n",
    "inhibitory = [False, False, True]\n",
    "dist_layer1 = np.array([1, 0, 0])\n",
    "dist_layer2 = np.array([0, 8, 0])\n",
    "dist_layer3 = np.array([1, 0, 0])\n",
    "neuron_distribution = [dist_layer1, dist_layer2, dist_layer3]\n",
    "threshold_decay = np.exp(-dt / 5)\n",
    "layer_distances = np.zeros((n_layers, n_layers))\n",
    "# mm\n",
    "layer_distances[0, 0] = 0.6\n",
    "layer_distances[1, 1] = 0.6\n",
    "layer_distances[2, 2] = 0.6\n",
    "layer_distances[0, 1] = 5.0\n",
    "layer_distances[1, 0] = 5.0\n",
    "layer_distances[1, 2] = 5.0\n",
    "layer_distances[2, 1] = 5.0\n",
    "layer_distances[0, 2] = 10.0\n",
    "layer_distances[2, 0] = 10.0"
   ]
  },
  {
   "cell_type": "code",
   "execution_count": 2092,
   "id": "2b824148",
   "metadata": {},
   "outputs": [],
   "source": [
    "neuron_pop = NeuronPopulation(\n",
    "    layer_distribution,\n",
    "    neuron_distribution,\n",
    "    layer_distances,\n",
    "    neuron_types,\n",
    "    inhibitory,\n",
    "    threshold_decay,\n",
    "    threshold_mult=1.15\n",
    ")"
   ]
  },
  {
   "cell_type": "code",
   "execution_count": 2093,
   "id": "0991eadb",
   "metadata": {},
   "outputs": [],
   "source": [
    "# Connectome\n",
    "max_synapses = 10\n",
    "synapse_strength = np.ones((n_layers, n_layers))\n",
    "# neuron_types = [\"p23\", \"TRN\", \"b\", \"nb\"]\n",
    "connectivity_probability = np.ones((n_layers, n_layers, n_neuron_types, n_neuron_types+2))\n",
    "\n",
    "\n",
    "connectivity_probability[:,:,:,-2] = 0.0  # Self connections\n",
    "connectivity_probability[:,:,:,-1] = 0.0  # No empty connections\n",
    "# No inter-connections for input and output layers\n",
    "connectivity_probability[0, 0, :, :-2] = 0\n",
    "connectivity_probability[2, 2, :, :-2] = 0\n",
    "# Only flow in one direction\n",
    "connectivity_probability[1, 0, :, :-2] = 0.0\n",
    "connectivity_probability[2, 1, :, :-2] = 0.0\n",
    "connectivity_probability[2, 0, :, :-2] = 0.0\n",
    "# No jump from input to output\n",
    "connectivity_probability[0, 2, :, :-2] = 0.0"
   ]
  },
  {
   "cell_type": "code",
   "execution_count": 2094,
   "id": "3356d1ce",
   "metadata": {},
   "outputs": [],
   "source": [
    "connectome = Connectome(\n",
    "    max_synapses,\n",
    "    neuron_pop,\n",
    "    connectivity_probability,\n",
    "    synapse_strength,\n",
    ")"
   ]
  },
  {
   "cell_type": "code",
   "execution_count": 2095,
   "id": "2292e06d",
   "metadata": {},
   "outputs": [
    {
     "data": {
      "text/plain": [
       "array([[ 7,  8,  3,  3, 10,  9,  6, 11,  8, 10],\n",
       "       [ 9, 11,  3,  3,  6,  6, 10,  2, 10,  5],\n",
       "       [13, 12,  3,  9,  6,  5,  7, 10, 11, 10],\n",
       "       [ 5,  4,  4, 10,  9, 11, 12,  8, 13,  4],\n",
       "       [ 5,  3,  2,  7,  3, 10, 13,  9, 11,  6],\n",
       "       [ 6,  7, 11, 13,  6,  4,  4, 13, 11, 12],\n",
       "       [12,  2, 11,  3, 12,  7, 12,  8,  2, 10],\n",
       "       [10,  6, 10,  6,  8, 12, 13,  4, 12, 13],\n",
       "       [11, 12, 11,  5,  6,  7,  5, 11, 10,  9],\n",
       "       [ 3, 13, 11,  8, 10, 10,  2,  5, 11, 10],\n",
       "       [ 5,  7,  5,  5,  4,  2,  7,  8, 12, 12],\n",
       "       [ 7,  6,  3,  6, 13,  7,  5,  4,  5,  4],\n",
       "       [ 0,  0,  0,  0,  0,  0,  0,  0,  0,  0],\n",
       "       [ 0,  0,  0,  0,  0,  0,  0,  0,  0,  0]])"
      ]
     },
     "execution_count": 2095,
     "metadata": {},
     "output_type": "execute_result"
    }
   ],
   "source": [
    "connectome.M"
   ]
  },
  {
   "cell_type": "code",
   "execution_count": 2096,
   "id": "8bcdc149",
   "metadata": {},
   "outputs": [],
   "source": [
    "# connectome.distances"
   ]
  },
  {
   "cell_type": "code",
   "execution_count": 2097,
   "id": "25acf933",
   "metadata": {},
   "outputs": [],
   "source": [
    "sim = Simulation(connectome, dt, stepper_type=\"adapt\")\n",
    "sim.plasticity.mirror_neurons = [(0, -2), (1, -1)]"
   ]
  },
  {
   "cell_type": "code",
   "execution_count": 2098,
   "id": "b53bbaf5",
   "metadata": {},
   "outputs": [],
   "source": [
    "weights_t0 = connectome.W.copy()"
   ]
  },
  {
   "cell_type": "code",
   "execution_count": 2099,
   "id": "7f50074e",
   "metadata": {},
   "outputs": [],
   "source": [
    "# connectome.W.copy()"
   ]
  },
  {
   "cell_type": "code",
   "execution_count": 2100,
   "id": "da28a50a",
   "metadata": {},
   "outputs": [],
   "source": [
    "I_ext = np.zeros((neuron_pop.n_neurons))\n",
    "I_ext[1] = 100\n",
    "I_ext[2:-2] = 50\n",
    "\n",
    "# I_ext = 100\n",
    "\n",
    "for i in range(50000):\n",
    "    sim.step(I_ext=I_ext)\n",
    "    # print(sim.synapse_dynamics.g_ST)\n",
    "    # if np.sum(sim.pre_spikes) > 0:\n",
    "        # print(f\"Step {i}, {sim.t_now}, heap size: {(sim.axonal_dynamics._heap)}\")\n",
    "        # print(sim.pre_spikes)\n",
    "\n",
    "weights_t1 = connectome.W.copy()"
   ]
  },
  {
   "cell_type": "code",
   "execution_count": 2101,
   "id": "30bad97f",
   "metadata": {},
   "outputs": [
    {
     "data": {
      "text/plain": [
       "array([0.05543664, 1.41767135, 0.20748153, 0.19029379, 0.10358808,\n",
       "       0.1955977 , 0.09734609, 0.07481483, 0.0713814 , 0.17814214,\n",
       "       0.12406663, 0.0745973 , 0.05543664, 1.41767135])"
      ]
     },
     "execution_count": 2101,
     "metadata": {},
     "output_type": "execute_result"
    }
   ],
   "source": [
    "sim.plasticity.activity_trace"
   ]
  },
  {
   "cell_type": "code",
   "execution_count": 2102,
   "id": "bde28062",
   "metadata": {},
   "outputs": [],
   "source": [
    "# sim.synapse_dynamics.g_GABA_B"
   ]
  },
  {
   "cell_type": "code",
   "execution_count": 2103,
   "id": "18201338",
   "metadata": {},
   "outputs": [
    {
     "data": {
      "text/plain": [
       "array([False, False, False, False, False, False, False, False, False,\n",
       "       False, False, False, False, False])"
      ]
     },
     "execution_count": 2103,
     "metadata": {},
     "output_type": "execute_result"
    }
   ],
   "source": [
    "neuron_pop.inhibitory_mask"
   ]
  },
  {
   "cell_type": "code",
   "execution_count": 2104,
   "id": "7e0e9031",
   "metadata": {},
   "outputs": [
    {
     "data": {
      "text/plain": [
       "array([-60.98143863, -65.66313361, -58.49416199, -58.40486647,\n",
       "       -60.21883679, -57.59627495, -57.21121717, -58.69184185,\n",
       "       -57.00256493, -58.70025541, -58.12725681, -57.34974516,\n",
       "       -61.31509565, -65.84160534])"
      ]
     },
     "execution_count": 2104,
     "metadata": {},
     "output_type": "execute_result"
    }
   ],
   "source": [
    "sim.neuron_states.V"
   ]
  },
  {
   "cell_type": "code",
   "execution_count": 2105,
   "id": "59e177ec",
   "metadata": {},
   "outputs": [
    {
     "data": {
      "text/plain": [
       "array([[0.05331952, 0.14760864, 0.03680351, 0.04048153, 0.13359076,\n",
       "        0.17255722, 0.14058363, 0.08980576, 0.02585362, 0.05401667],\n",
       "       [0.05136591, 0.00915443, 0.01606856, 0.07051481, 0.02833419,\n",
       "        0.00517863, 0.02005091, 0.10144375, 0.01938175, 0.08408276],\n",
       "       [1.85990132, 0.04656421, 0.08517678, 0.17809822, 0.03628304,\n",
       "        0.0673245 , 0.04031383, 0.04827051, 0.10340378, 0.05337642],\n",
       "       [0.07224188, 0.04817337, 0.05000318, 0.06991074, 0.16894959,\n",
       "        0.04659249, 0.07036399, 0.11760193, 1.55576469, 0.12832554],\n",
       "       [0.07660146, 0.17881726, 0.11201248, 0.13546295, 0.04756022,\n",
       "        0.        , 0.55319323, 0.16648969, 0.07045931, 0.07379401],\n",
       "       [0.12447366, 0.10162189, 0.05490804, 0.12688655, 0.04914898,\n",
       "        0.09578842, 0.05968905, 0.51189838, 0.0064972 , 0.03909801],\n",
       "       [0.03908192, 0.12080422, 0.04739777, 0.06171408, 0.04900955,\n",
       "        0.13303468, 0.06546547, 0.1057407 , 0.19502468, 0.04521181],\n",
       "       [0.0315054 , 0.07215395, 0.05384843, 0.0789381 , 0.32915962,\n",
       "        0.08257546, 0.32651659, 0.12905376, 0.0928591 , 0.74227123],\n",
       "       [0.1049613 , 0.04354789, 0.14215925, 0.03824129, 0.05945379,\n",
       "        0.09775424, 0.07611783, 0.05716185, 0.06508434, 0.10944871],\n",
       "       [0.13133902, 1.16158394, 0.06093616, 0.        , 0.08727354,\n",
       "        0.06170058, 0.13869267, 0.04365318, 0.05090369, 0.03910352],\n",
       "       [0.1199514 , 0.11551556, 0.04778994, 0.05169244, 0.08006096,\n",
       "        0.04955081, 0.08299217, 0.18850236, 0.08287837, 0.07251366],\n",
       "       [0.08487111, 0.07019905, 0.08478367, 0.06834632, 1.1234652 ,\n",
       "        0.07450253, 0.02732693, 0.11508204, 0.05223563, 0.13500996],\n",
       "       [0.        , 0.        , 0.        , 0.        , 0.        ,\n",
       "        0.        , 0.        , 0.        , 0.        , 0.        ],\n",
       "       [0.        , 0.        , 0.        , 0.        , 0.        ,\n",
       "        0.        , 0.        , 0.        , 0.        , 0.        ]])"
      ]
     },
     "execution_count": 2105,
     "metadata": {},
     "output_type": "execute_result"
    }
   ],
   "source": [
    "weights_t1 # [neuron_pop.inhibitory_mask]"
   ]
  },
  {
   "cell_type": "code",
   "execution_count": 2106,
   "id": "3b34bc6b",
   "metadata": {},
   "outputs": [
    {
     "data": {
      "text/plain": [
       "array([[-0.71732395, -0.47530094, -0.31633798, -0.34795171, -2.08471727,\n",
       "        -0.85553595, -1.77211578, -1.08913837, -0.08324886, -0.84294358],\n",
       "       [-0.37101789, -0.29625377, -0.26675457, -1.17061774, -0.78703564,\n",
       "        -0.14384627, -0.75194758, -1.1649484 , -0.72685306, -1.99151641],\n",
       "       [ 0.33256238, -0.88358252, -0.81099986, -0.94245767, -0.51237905,\n",
       "        -1.00016794, -0.5892524 , -0.85155011, -1.43082131, -0.94162458],\n",
       "       [-1.07362155, -0.59740452, -0.62009634, -1.23721077, -0.89990074,\n",
       "        -0.64441175, -1.3379635 , -0.4100053 ,  0.29952177, -1.59138262],\n",
       "       [-1.09977859, -1.63060144, -0.77771017, -1.89286017, -0.43369281,\n",
       "         0.        , -0.14946649, -0.86470777, -0.90467659, -0.98575105],\n",
       "       [-1.75641597, -1.48491547, -0.75959334,  0.02347584, -0.69352867,\n",
       "        -1.18717704, -0.73977074,  0.09470859, -0.08988171, -0.7425034 ],\n",
       "       [-0.70937757, -0.8446332 , -0.61967462, -0.56915067, -0.88957439,\n",
       "        -1.878171  , -1.18826662, -0.35696105, -1.36356432, -0.76299169],\n",
       "       [-0.52204312, -0.96148323, -0.89226605, -1.05188513, -1.09846966,\n",
       "        -1.47539006, -0.09324487, -1.5056182 , -1.65912962, -0.21197388],\n",
       "       [-1.32465707, -0.76087998, -1.79411125, -0.53931586, -0.78001572,\n",
       "        -1.34824736, -1.07348756, -0.72140732, -1.06100222, -0.56048622],\n",
       "       [-1.21216741, -0.02161851, -0.81144248,  0.        , -1.48390522,\n",
       "        -1.04909017, -0.96280783, -0.63086488, -0.67784735, -0.66487419],\n",
       "       [-1.74589967, -1.64210493, -0.69558546, -0.75238646, -0.95784749,\n",
       "        -0.34887066, -1.17977057, -0.6406525 , -1.51958422, -1.32954613],\n",
       "       [-1.18304148, -0.93503777, -0.77197572, -0.9103597 , -0.32105286,\n",
       "        -1.03851105, -0.39187907, -1.34188964, -0.74907968, -1.57425487],\n",
       "       [ 0.        ,  0.        ,  0.        ,  0.        ,  0.        ,\n",
       "         0.        ,  0.        ,  0.        ,  0.        ,  0.        ],\n",
       "       [ 0.        ,  0.        ,  0.        ,  0.        ,  0.        ,\n",
       "         0.        ,  0.        ,  0.        ,  0.        ,  0.        ]])"
      ]
     },
     "execution_count": 2106,
     "metadata": {},
     "output_type": "execute_result"
    }
   ],
   "source": [
    "weights_t1 -   weights_t0"
   ]
  },
  {
   "cell_type": "code",
   "execution_count": 2107,
   "id": "e7dca28e",
   "metadata": {},
   "outputs": [
    {
     "data": {
      "image/png": "[encoded data removed]",
      "text/plain": [
       "<Figure size 640x480 with 1 Axes>"
      ]
     },
     "metadata": {},
     "output_type": "display_data"
    }
   ],
   "source": [
    "plt.plot(np.array(sim.stats.Vs)[:, neuron_pop.get_neurons_from_layer(1)])\n",
    "plt.show()"
   ]
  },
  {
   "cell_type": "code",
   "execution_count": 2108,
   "id": "c314082b",
   "metadata": {},
   "outputs": [
    {
     "data": {
      "image/png": "[encoded data removed]",
      "text/plain": [
       "<Figure size 640x480 with 1 Axes>"
      ]
     },
     "metadata": {},
     "output_type": "display_data"
    }
   ],
   "source": [
    "plt.plot(np.array(sim.stats.spikes)[:, neuron_pop.get_neurons_from_layer(2)])\n",
    "plt.show()"
   ]
  }
 ],
 "metadata": {
  "kernelspec": {
   "display_name": "neuro",
   "language": "python",
   "name": "python3"
  },
  "language_info": {
   "codemirror_mode": {
    "name": "ipython",
    "version": 3
   },
   "file_extension": ".py",
   "mimetype": "text/x-python",
   "name": "python",
   "nbconvert_exporter": "python",
   "pygments_lexer": "ipython3",
   "version": "3.13.1"
  }
 },
 "nbformat": 4,
 "nbformat_minor": 5
}
