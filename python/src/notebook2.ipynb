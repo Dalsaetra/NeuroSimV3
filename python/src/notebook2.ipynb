{
 "cells": [
  {
   "cell_type": "code",
   "execution_count": 202,
   "id": "df3cb064",
   "metadata": {},
   "outputs": [
    {
     "name": "stdout",
     "output_type": "stream",
     "text": [
      "The autoreload extension is already loaded. To reload it, use:\n",
      "  %reload_ext autoreload\n"
     ]
    }
   ],
   "source": [
    "%load_ext autoreload\n",
    "%autoreload 2"
   ]
  },
  {
   "cell_type": "code",
   "execution_count": 203,
   "id": "2fd1c1be",
   "metadata": {},
   "outputs": [],
   "source": [
    "import numpy as np\n",
    "import matplotlib.pyplot as plt\n",
    "\n",
    "\n",
    "from neuron_population import NeuronPopulation\n",
    "from connectome import Connectome\n",
    "from overhead import Simulation"
   ]
  },
  {
   "cell_type": "code",
   "execution_count": 204,
   "id": "9c42b7be",
   "metadata": {},
   "outputs": [],
   "source": [
    "dt = 0.1"
   ]
  },
  {
   "cell_type": "code",
   "execution_count": 205,
   "id": "8b45706f",
   "metadata": {},
   "outputs": [],
   "source": [
    "# Neuron population parameters\n",
    "layer_distribution = [2, 12, 2]\n",
    "n_layers = 3\n",
    "neuron_types = [\"TRN\", \"p23\", \"nb\"]\n",
    "n_neuron_types = len(neuron_types)\n",
    "inhibitory = [False, False, True]\n",
    "dist_layer1 = np.array([1, 0, 0])\n",
    "dist_layer2 = np.array([0, 8, 2])\n",
    "dist_layer3 = np.array([1, 0, 0])\n",
    "neuron_distribution = [dist_layer1, dist_layer2, dist_layer3]\n",
    "threshold_decay = np.exp(-dt / 5)\n",
    "layer_distances = np.zeros((n_layers, n_layers))\n",
    "# mm\n",
    "layer_distances[0, 0] = 0.6\n",
    "layer_distances[1, 1] = 0.6\n",
    "layer_distances[2, 2] = 0.6\n",
    "layer_distances[0, 1] = 5.0\n",
    "layer_distances[1, 0] = 5.0\n",
    "layer_distances[1, 2] = 5.0\n",
    "layer_distances[2, 1] = 5.0\n",
    "layer_distances[0, 2] = 10.0\n",
    "layer_distances[2, 0] = 10.0"
   ]
  },
  {
   "cell_type": "code",
   "execution_count": 206,
   "id": "2b824148",
   "metadata": {},
   "outputs": [],
   "source": [
    "neuron_pop = NeuronPopulation(\n",
    "    layer_distribution,\n",
    "    neuron_distribution,\n",
    "    layer_distances,\n",
    "    neuron_types,\n",
    "    inhibitory,\n",
    "    threshold_decay,\n",
    "    threshold_mult=1.15\n",
    ")"
   ]
  },
  {
   "cell_type": "code",
   "execution_count": 207,
   "id": "0991eadb",
   "metadata": {},
   "outputs": [],
   "source": [
    "# Connectome\n",
    "max_synapses = 12\n",
    "synapse_strength = np.ones((n_layers, n_layers))\n",
    "# neuron_types = [\"p23\", \"TRN\", \"b\", \"nb\"]\n",
    "connectivity_probability = np.ones((n_layers, n_layers, n_neuron_types, n_neuron_types+2))\n",
    "\n",
    "\n",
    "connectivity_probability[:,:,:,-2] = 0.0  # Self connections\n",
    "connectivity_probability[:,:,:,-1] = 0.0  # No empty connections\n",
    "# No inter-connections for input and output layers\n",
    "connectivity_probability[0, 0, :, :-2] = 0\n",
    "connectivity_probability[2, 2, :, :-2] = 0\n",
    "# Only flow in one direction\n",
    "connectivity_probability[1, 0, :, :-2] = 0.0\n",
    "connectivity_probability[2, 1, :, :-2] = 0.0\n",
    "connectivity_probability[2, 0, :, :-2] = 0.0\n",
    "# No jump from input to output\n",
    "connectivity_probability[0, 2, :, :-2] = 0.0"
   ]
  },
  {
   "cell_type": "code",
   "execution_count": 208,
   "id": "3356d1ce",
   "metadata": {},
   "outputs": [],
   "source": [
    "connectome = Connectome(\n",
    "    max_synapses,\n",
    "    neuron_pop,\n",
    "    connectivity_probability,\n",
    "    synapse_strength,\n",
    ")"
   ]
  },
  {
   "cell_type": "code",
   "execution_count": 209,
   "id": "2292e06d",
   "metadata": {},
   "outputs": [
    {
     "data": {
      "text/plain": [
       "array([[12,  9,  2,  6, 13,  8,  6,  7,  8, 10, 13, 12],\n",
       "       [13, 11,  6, 12, 11,  9, 11,  9,  6,  3, 10,  2],\n",
       "       [13, 13,  3,  8, 11, 11, 14, 12,  9, 10,  5, 13],\n",
       "       [ 5, 11, 14, 14, 10,  4, 15,  6, 15, 13, 15,  4],\n",
       "       [ 9, 11, 14, 14,  9, 12,  3, 10, 12, 12, 12, 14],\n",
       "       [ 6, 14, 15,  4, 12,  2, 10,  7, 11,  6, 14, 15],\n",
       "       [11, 12, 15,  2,  8,  8,  5,  5,  5, 15, 12, 12],\n",
       "       [15,  8, 15, 11, 10, 10, 10, 14, 13, 13, 12, 11],\n",
       "       [15,  3,  7, 11, 11, 11, 11,  5, 11,  5,  7,  6],\n",
       "       [15,  3,  2, 14, 10, 12, 11,  2, 11, 15,  3,  2],\n",
       "       [ 4,  7, 13, 11, 13,  9,  7, 13,  4,  6,  6, 11],\n",
       "       [13, 13,  4,  7,  3,  2,  3, 14, 12,  5,  6,  6],\n",
       "       [10, 11,  2,  6,  9, 15,  9, 11, 15,  9,  7,  2],\n",
       "       [11, 15,  6, 11, 11,  9,  7,  7,  6,  8,  5, 15],\n",
       "       [ 0,  0,  0,  0,  0,  0,  0,  0,  0,  0,  0,  0],\n",
       "       [ 0,  0,  0,  0,  0,  0,  0,  0,  0,  0,  0,  0]])"
      ]
     },
     "execution_count": 209,
     "metadata": {},
     "output_type": "execute_result"
    }
   ],
   "source": [
    "connectome.M"
   ]
  },
  {
   "cell_type": "code",
   "execution_count": 212,
   "id": "54a8292e",
   "metadata": {},
   "outputs": [
    {
     "data": {
      "text/plain": [
       "array([[False, False, False, False, False, False, False, False, False,\n",
       "        False, False, False],\n",
       "       [False, False, False, False, False, False, False, False, False,\n",
       "        False, False, False],\n",
       "       [False, False, False, False, False, False, False, False, False,\n",
       "        False, False, False],\n",
       "       [False, False, False, False, False, False, False, False, False,\n",
       "        False, False, False],\n",
       "       [False, False, False, False, False, False, False, False, False,\n",
       "        False, False, False],\n",
       "       [False, False, False, False, False, False, False, False, False,\n",
       "        False, False, False],\n",
       "       [False, False, False, False, False, False, False, False, False,\n",
       "        False, False, False],\n",
       "       [False, False, False, False, False, False, False, False, False,\n",
       "        False, False, False],\n",
       "       [False, False, False, False, False, False, False, False, False,\n",
       "        False, False, False],\n",
       "       [False, False, False, False, False, False, False, False, False,\n",
       "        False, False, False],\n",
       "       [False, False, False, False, False, False, False, False, False,\n",
       "        False, False, False],\n",
       "       [False, False, False, False, False, False, False, False, False,\n",
       "        False, False, False],\n",
       "       [False, False, False, False, False, False, False, False, False,\n",
       "        False, False, False],\n",
       "       [False, False, False, False, False, False, False, False, False,\n",
       "        False, False, False],\n",
       "       [ True,  True,  True,  True,  True,  True,  True,  True,  True,\n",
       "         True,  True,  True],\n",
       "       [ True,  True,  True,  True,  True,  True,  True,  True,  True,\n",
       "         True,  True,  True]])"
      ]
     },
     "execution_count": 212,
     "metadata": {},
     "output_type": "execute_result"
    }
   ],
   "source": [
    "connectome.NC"
   ]
  },
  {
   "cell_type": "code",
   "execution_count": 210,
   "id": "bd62c552",
   "metadata": {},
   "outputs": [
    {
     "name": "stdout",
     "output_type": "stream",
     "text": [
      "Connections per neuron:\n",
      "Out: [12 12 12 12 12 12 12 12 12 12 12 12 12 12  0  0]\n",
      "In: [ 0  0  7  6  4  6  9  7  5  7  9 12  9  7  7  8]\n",
      "Total: [12 12 19 18 16 18 21 19 17 19 21 24 21 19  7  8]\n"
     ]
    }
   ],
   "source": [
    "outw, inw, total = connectome.connections_per_neuron()\n",
    "print(\"Connections per neuron:\")\n",
    "print(\"Out:\", outw)\n",
    "print(\"In:\", inw)\n",
    "print(\"Total:\", total)"
   ]
  },
  {
   "cell_type": "code",
   "execution_count": 211,
   "id": "676839e3",
   "metadata": {},
   "outputs": [
    {
     "data": {
      "image/png": "[encoded data removed]",
      "text/plain": [
       "<Figure size 1200x400 with 3 Axes>"
      ]
     },
     "metadata": {},
     "output_type": "display_data"
    }
   ],
   "source": [
    "# Plot 3 connections histograms\n",
    "plt.figure(figsize=(12, 4))\n",
    "plt.subplot(1, 3, 1)\n",
    "plt.hist(outw, bins=30, color='blue', alpha=0.7, label='Outgoing')\n",
    "plt.title('Outgoing Connections per Neuron')\n",
    "plt.xlabel('Number of Connections')\n",
    "plt.ylabel('Frequency')\n",
    "plt.subplot(1, 3, 2)\n",
    "plt.hist(inw, bins=30, color='green', alpha=0.7, label='Incoming')\n",
    "plt.title('Incoming Connections per Neuron')\n",
    "plt.xlabel('Number of Connections')\n",
    "plt.ylabel('Frequency')\n",
    "plt.subplot(1, 3, 3)\n",
    "plt.hist(total, bins=30, color='red', alpha=0.7, label='Total')\n",
    "plt.title('Total Connections per Neuron')\n",
    "plt.xlabel('Number of Connections')\n",
    "plt.ylabel('Frequency')\n",
    "plt.tight_layout()\n",
    "plt.show()"
   ]
  },
  {
   "cell_type": "code",
   "execution_count": 178,
   "id": "8bcdc149",
   "metadata": {},
   "outputs": [],
   "source": [
    "# connectome.distances"
   ]
  },
  {
   "cell_type": "code",
   "execution_count": 179,
   "id": "25acf933",
   "metadata": {},
   "outputs": [],
   "source": [
    "sim = Simulation(connectome, dt, stepper_type=\"adapt\")\n",
    "sim.plasticity.mirror_neurons = [(0, -2), (1, -1)]"
   ]
  },
  {
   "cell_type": "code",
   "execution_count": 180,
   "id": "b53bbaf5",
   "metadata": {},
   "outputs": [],
   "source": [
    "weights_t0 = connectome.W.copy()"
   ]
  },
  {
   "cell_type": "code",
   "execution_count": 181,
   "id": "7f50074e",
   "metadata": {},
   "outputs": [],
   "source": [
    "# connectome.W.copy()"
   ]
  },
  {
   "cell_type": "code",
   "execution_count": 182,
   "id": "da28a50a",
   "metadata": {},
   "outputs": [],
   "source": [
    "I_ext = np.zeros((neuron_pop.n_neurons))\n",
    "I_ext[1] = 100\n",
    "I_ext[2:-2] = 50\n",
    "\n",
    "# I_ext = 100\n",
    "\n",
    "for i in range(50000):\n",
    "    sim.step(I_ext=I_ext)\n",
    "\n",
    "weights_t1 = connectome.W.copy()"
   ]
  },
  {
   "cell_type": "code",
   "execution_count": 183,
   "id": "9d1023db",
   "metadata": {},
   "outputs": [],
   "source": [
    "# sim.plasticity.A = 0.0"
   ]
  },
  {
   "cell_type": "code",
   "execution_count": 184,
   "id": "194a4cdc",
   "metadata": {},
   "outputs": [],
   "source": [
    "I_ext = np.zeros((neuron_pop.n_neurons))\n",
    "I_ext[0] = 100\n",
    "I_ext[2:-2] = 50\n",
    "\n",
    "# I_ext = 100\n",
    "\n",
    "for i in range(50000):\n",
    "    sim.step(I_ext=I_ext)\n",
    "\n",
    "weights_t1 = connectome.W.copy()"
   ]
  },
  {
   "cell_type": "code",
   "execution_count": 185,
   "id": "30bad97f",
   "metadata": {},
   "outputs": [],
   "source": [
    "# sim.plasticity.activity_trace"
   ]
  },
  {
   "cell_type": "code",
   "execution_count": 186,
   "id": "bde28062",
   "metadata": {},
   "outputs": [
    {
     "data": {
      "text/plain": [
       "array([0.00000000e+00, 0.00000000e+00, 2.81266980e-03, 2.20016781e-02,\n",
       "       4.71118564e-04, 2.22916399e-02, 2.73288477e-02, 2.92122842e-03,\n",
       "       5.04618429e-02, 9.87017925e-02, 1.00641911e-01, 1.41445910e-02,\n",
       "       5.10366767e-02, 4.35829587e-03, 3.82166497e-02, 1.15385192e-10])"
      ]
     },
     "execution_count": 186,
     "metadata": {},
     "output_type": "execute_result"
    }
   ],
   "source": [
    "sim.synapse_dynamics.g_GABA_A\n",
    "sim.synapse_dynamics.g_NMDA"
   ]
  },
  {
   "cell_type": "code",
   "execution_count": 187,
   "id": "18201338",
   "metadata": {},
   "outputs": [
    {
     "data": {
      "text/plain": [
       "array([False, False, False, False, False, False, False, False, False,\n",
       "       False, False, False, False, False, False, False])"
      ]
     },
     "execution_count": 187,
     "metadata": {},
     "output_type": "execute_result"
    }
   ],
   "source": [
    "neuron_pop.inhibitory_mask"
   ]
  },
  {
   "cell_type": "code",
   "execution_count": 188,
   "id": "7e0e9031",
   "metadata": {},
   "outputs": [
    {
     "data": {
      "text/plain": [
       "array([-50.5547192 , -53.30036711, -56.85649646, -57.98409941,\n",
       "       -57.59110255, -57.81308348, -56.23075015, -57.45123117,\n",
       "       -59.10397784, -56.3096    , -57.41445085, -58.44410976,\n",
       "       -58.92649917, -58.7267706 , -62.22456255, -54.09761555])"
      ]
     },
     "execution_count": 188,
     "metadata": {},
     "output_type": "execute_result"
    }
   ],
   "source": [
    "sim.neuron_states.V"
   ]
  },
  {
   "cell_type": "code",
   "execution_count": 189,
   "id": "59e177ec",
   "metadata": {},
   "outputs": [
    {
     "data": {
      "text/plain": [
       "array([[2.49894762e-02, 3.78902334e-02, 7.80813320e-03, 5.39233507e-02,\n",
       "        1.32819267e-02, 6.15973880e-03, 1.02974553e-02, 1.41849069e-02,\n",
       "        5.80040535e-03, 2.68581376e-03, 1.12850414e-02, 6.90472934e-03],\n",
       "       [5.71900725e-03, 1.55045632e-02, 1.64405419e-02, 1.72826669e-02,\n",
       "        2.65141329e-02, 5.19568081e-03, 0.00000000e+00, 2.28791367e-02,\n",
       "        2.20056024e-02, 3.35430212e-03, 1.87380991e-02, 4.90802281e-03],\n",
       "       [3.19684232e-02, 3.47189095e-01, 2.24667554e-02, 0.00000000e+00,\n",
       "        5.05031810e-02, 4.96771316e-02, 6.04864490e-02, 5.56184729e-02,\n",
       "        6.66847149e-02, 8.02556074e-02, 1.02270406e-01, 6.76468858e-02],\n",
       "       [9.63183724e-02, 4.77554201e-02, 5.94797829e-02, 4.15046143e-01,\n",
       "        6.27153765e-02, 3.94795472e-01, 7.62540737e-02, 6.32950810e-02,\n",
       "        5.73773004e-03, 7.49404158e-02, 1.43749176e-01, 1.11455976e-01],\n",
       "       [2.79243504e-02, 3.95504457e-02, 8.36956437e-02, 1.16027363e-01,\n",
       "        2.55300915e-02, 1.26517483e+00, 2.46601810e-02, 1.45437022e-02,\n",
       "        1.74712310e-02, 7.18524218e-02, 1.72320977e-01, 9.16618605e-02],\n",
       "       [3.41236041e-02, 1.23719678e-01, 6.48560164e-02, 0.00000000e+00,\n",
       "        5.76906397e-02, 8.07576946e-02, 8.53850122e-02, 0.00000000e+00,\n",
       "        4.85697380e-02, 8.84750128e-02, 5.54063546e-02, 3.91286379e-01],\n",
       "       [2.78558325e+00, 5.03064323e-01, 3.69692445e-02, 1.14967473e+00,\n",
       "        8.45759068e-02, 5.92746659e-02, 1.38133456e-01, 7.73074524e-02,\n",
       "        3.49694426e-02, 1.00255957e-02, 1.27407340e-02, 1.32646940e-01],\n",
       "       [8.72442275e-01, 1.78099165e-02, 2.78478528e-02, 3.64870915e-02,\n",
       "        1.00509341e-01, 6.36197678e-02, 6.86285265e-02, 4.69807846e-02,\n",
       "        8.16106100e-02, 7.89024947e-02, 6.21539344e-02, 9.10802954e-02],\n",
       "       [8.78856197e-02, 6.68302194e-02, 8.38458276e-02, 6.24478648e-02,\n",
       "        1.01362220e-01, 4.53465678e-02, 3.47700667e-02, 8.52244146e-01,\n",
       "        7.61708304e-02, 1.23919258e+00, 7.69168323e-02, 6.65290815e-01],\n",
       "       [8.29882885e-02, 8.28449498e-02, 3.55665323e-02, 1.49665674e-01,\n",
       "        4.31407340e-02, 3.72528613e+00, 1.79720580e-01, 5.43077128e-02,\n",
       "        1.19786403e-02, 2.29317358e-01, 4.51697947e-02, 1.25671290e-01],\n",
       "       [3.03758255e-02, 4.45278195e-02, 9.25913619e-02, 5.21603606e-02,\n",
       "        5.51346837e-02, 1.68496611e-02, 3.25304678e-02, 4.58385365e-02,\n",
       "        5.81536647e-02, 2.51716881e-02, 1.04685023e-01, 1.22476964e-01],\n",
       "       [1.19781490e-01, 5.25019082e-02, 6.03692934e-02, 9.36845334e-02,\n",
       "        5.79744331e-01, 4.17653981e-02, 3.13473259e-02, 5.18859526e-02,\n",
       "        3.97125958e-02, 4.49521570e-02, 1.02881718e-02, 3.80296142e-02],\n",
       "       [4.26839274e-02, 3.43378044e-02, 8.40603093e-02, 8.89731339e-02,\n",
       "        2.63679376e-02, 6.65324602e-02, 9.88562245e-02, 8.13426592e-02,\n",
       "        2.09782397e-01, 6.27398018e-02, 1.37682198e-02, 5.04079355e-03],\n",
       "       [2.97698767e+00, 1.26954521e-01, 9.08553762e-02, 8.61341156e-02,\n",
       "        5.01296370e-02, 3.93381189e-02, 2.95000756e-02, 7.82605137e-02,\n",
       "        7.37570722e-02, 5.49444769e-02, 5.73022416e-02, 4.25603714e-02],\n",
       "       [0.00000000e+00, 0.00000000e+00, 0.00000000e+00, 0.00000000e+00,\n",
       "        0.00000000e+00, 0.00000000e+00, 0.00000000e+00, 0.00000000e+00,\n",
       "        0.00000000e+00, 0.00000000e+00, 0.00000000e+00, 0.00000000e+00],\n",
       "       [0.00000000e+00, 0.00000000e+00, 0.00000000e+00, 0.00000000e+00,\n",
       "        0.00000000e+00, 0.00000000e+00, 0.00000000e+00, 0.00000000e+00,\n",
       "        0.00000000e+00, 0.00000000e+00, 0.00000000e+00, 0.00000000e+00]])"
      ]
     },
     "execution_count": 189,
     "metadata": {},
     "output_type": "execute_result"
    }
   ],
   "source": [
    "weights_t1 # [neuron_pop.inhibitory_mask]"
   ]
  },
  {
   "cell_type": "code",
   "execution_count": 190,
   "id": "3b34bc6b",
   "metadata": {},
   "outputs": [
    {
     "data": {
      "text/plain": [
       "array([[-1.55583271, -1.81560919, -0.87898576, -1.2782327 , -0.72229928,\n",
       "        -0.3823916 , -1.12147283, -0.67970675, -0.67182682, -0.30235038,\n",
       "        -1.30707993, -0.79973416],\n",
       "       [-0.33530798, -0.49563602, -0.49023125, -0.81902681, -1.40373055,\n",
       "        -0.66918268,  0.        , -1.34141412, -1.02551571, -0.21999587,\n",
       "        -0.59672928, -0.52577401],\n",
       "       [-0.62696669, -0.51127463, -0.26698882,  0.        , -1.00462763,\n",
       "        -0.97427097, -0.88992383, -1.10638287, -1.4289558 , -1.54299978,\n",
       "        -1.1785169 , -1.26195007],\n",
       "       [-1.81143424, -0.84490696, -0.33140286,  0.03118683, -1.11142468,\n",
       "         0.02966518, -1.34911591, -1.12169804, -0.03196885, -1.04402677,\n",
       "        -1.24146923, -0.62099804],\n",
       "       [-0.54857162, -0.43777588, -1.57293361, -0.64631637, -0.48595231,\n",
       "         0.09086897, -0.34343255, -0.20254437, -0.332556  , -0.77720508,\n",
       "        -0.46568707, -1.74473692],\n",
       "       [-0.6423858 , -1.34271147, -1.22093152,  0.        , -1.08604143,\n",
       "        -1.52028479, -0.88494057,  0.        , -0.92542963, -0.76467388,\n",
       "        -0.77191637, -1.05132505],\n",
       "       [ 0.77073319, -0.87460955, -0.73062334,  0.31809944, -0.90621124,\n",
       "        -1.17144547, -0.75077699, -1.61931604, -0.65813257, -0.18868391,\n",
       "        -0.18379182, -1.20143757],\n",
       "       [-0.63692177, -0.20870731, -0.58120209, -0.71416249, -0.89790697,\n",
       "        -1.19822906, -0.76445591, -0.419706  , -0.95636218, -1.15748229,\n",
       "        -1.29719144, -1.33612796],\n",
       "       [-1.01361589, -1.27529768, -1.2706964 , -0.72023328, -0.9164841 ,\n",
       "        -0.99993244, -0.70434025,  0.05453673, -1.51776441,  0.0792983 ,\n",
       "        -0.91902887,  0.19295139],\n",
       "       [-1.00359044, -1.36778841, -0.75716677, -0.7360022 , -0.96048829,\n",
       "         2.78763703, -0.88380147, -1.34449421, -0.14485958, -1.12770067,\n",
       "        -0.89895315, -1.5197627 ],\n",
       "       [-0.59525188, -0.95672806, -1.53310949, -1.12072141, -1.35408822,\n",
       "        -0.33018995, -0.69895206, -0.62192485, -1.139593  , -0.55791683,\n",
       "        -1.25544523, -1.66173428],\n",
       "       [-1.38720166, -0.56092633, -0.68170274, -1.05790543, -1.17709469,\n",
       "        -0.76357353, -0.57310571, -1.00202507, -0.82322638, -0.88542171,\n",
       "        -0.21326973, -0.74906853],\n",
       "       [-0.88997936, -0.40602462, -1.04165711, -1.02279799, -0.61091028,\n",
       "        -1.54146921, -1.13640987, -1.63970736, -1.08583406, -1.22974827,\n",
       "        -0.31899147, -0.10161244],\n",
       "       [ 2.22937065, -1.5228269 , -1.08981555, -1.04099956, -0.65343498,\n",
       "        -0.83414833, -0.65628018, -1.66507328, -1.46689664, -0.54093947,\n",
       "        -1.27478742, -0.90247485],\n",
       "       [ 0.        ,  0.        ,  0.        ,  0.        ,  0.        ,\n",
       "         0.        ,  0.        ,  0.        ,  0.        ,  0.        ,\n",
       "         0.        ,  0.        ],\n",
       "       [ 0.        ,  0.        ,  0.        ,  0.        ,  0.        ,\n",
       "         0.        ,  0.        ,  0.        ,  0.        ,  0.        ,\n",
       "         0.        ,  0.        ]])"
      ]
     },
     "execution_count": 190,
     "metadata": {},
     "output_type": "execute_result"
    }
   ],
   "source": [
    "weights_t1 -   weights_t0"
   ]
  },
  {
   "cell_type": "code",
   "execution_count": 191,
   "id": "e7dca28e",
   "metadata": {},
   "outputs": [
    {
     "data": {
      "image/png": "[encoded data removed]",
      "text/plain": [
       "<Figure size 640x480 with 1 Axes>"
      ]
     },
     "metadata": {},
     "output_type": "display_data"
    }
   ],
   "source": [
    "plt.plot(np.array(sim.stats.Vs)[:, neuron_pop.get_neurons_from_layer(2)])\n",
    "plt.show()"
   ]
  },
  {
   "cell_type": "code",
   "execution_count": 192,
   "id": "c314082b",
   "metadata": {},
   "outputs": [
    {
     "data": {
      "image/png": "[encoded data removed]",
      "text/plain": [
       "<Figure size 640x480 with 1 Axes>"
      ]
     },
     "metadata": {},
     "output_type": "display_data"
    }
   ],
   "source": [
    "plt.plot(np.array(sim.stats.spikes)[:, neuron_pop.get_neurons_from_layer(2)])\n",
    "plt.show()"
   ]
  }
 ],
 "metadata": {
  "kernelspec": {
   "display_name": "neuro",
   "language": "python",
   "name": "python3"
  },
  "language_info": {
   "codemirror_mode": {
    "name": "ipython",
    "version": 3
   },
   "file_extension": ".py",
   "mimetype": "text/x-python",
   "name": "python",
   "nbconvert_exporter": "python",
   "pygments_lexer": "ipython3",
   "version": "3.13.1"
  }
 },
 "nbformat": 4,
 "nbformat_minor": 5
}
