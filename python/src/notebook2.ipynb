{
 "cells": [
  {
   "cell_type": "code",
   "execution_count": 1675,
   "id": "df3cb064",
   "metadata": {},
   "outputs": [
    {
     "name": "stdout",
     "output_type": "stream",
     "text": [
      "The autoreload extension is already loaded. To reload it, use:\n",
      "  %reload_ext autoreload\n"
     ]
    }
   ],
   "source": [
    "%load_ext autoreload\n",
    "%autoreload 2"
   ]
  },
  {
   "cell_type": "code",
   "execution_count": 1676,
   "id": "2fd1c1be",
   "metadata": {},
   "outputs": [],
   "source": [
    "import numpy as np\n",
    "import matplotlib.pyplot as plt\n",
    "\n",
    "\n",
    "from neuron_population import NeuronPopulation\n",
    "from connectome import Connectome\n",
    "from overhead import Simulation"
   ]
  },
  {
   "cell_type": "code",
   "execution_count": 1677,
   "id": "9c42b7be",
   "metadata": {},
   "outputs": [],
   "source": [
    "dt = 0.1"
   ]
  },
  {
   "cell_type": "code",
   "execution_count": 1678,
   "id": "8b45706f",
   "metadata": {},
   "outputs": [],
   "source": [
    "# Neuron population parameters\n",
    "layer_distribution = [2, 10, 2]\n",
    "n_layers = 3\n",
    "neuron_types = [\"TRN\", \"p23\", \"nb\"]\n",
    "n_neuron_types = len(neuron_types)\n",
    "inhibitory = [False, False, True]\n",
    "dist_layer1 = np.array([1, 0, 0])\n",
    "dist_layer2 = np.array([0, 8, 0])\n",
    "dist_layer3 = np.array([1, 0, 0])\n",
    "neuron_distribution = [dist_layer1, dist_layer2, dist_layer3]\n",
    "threshold_decay = np.exp(-dt / 5)\n",
    "layer_distances = np.zeros((n_layers, n_layers))\n",
    "# mm\n",
    "layer_distances[0, 0] = 0.6\n",
    "layer_distances[1, 1] = 0.6\n",
    "layer_distances[2, 2] = 0.6\n",
    "layer_distances[0, 1] = 5.0\n",
    "layer_distances[1, 0] = 5.0\n",
    "layer_distances[1, 2] = 5.0\n",
    "layer_distances[2, 1] = 5.0\n",
    "layer_distances[0, 2] = 10.0\n",
    "layer_distances[2, 0] = 10.0"
   ]
  },
  {
   "cell_type": "code",
   "execution_count": 1679,
   "id": "2b824148",
   "metadata": {},
   "outputs": [],
   "source": [
    "neuron_pop = NeuronPopulation(\n",
    "    layer_distribution,\n",
    "    neuron_distribution,\n",
    "    layer_distances,\n",
    "    neuron_types,\n",
    "    inhibitory,\n",
    "    threshold_decay,\n",
    "    threshold_mult=1.15\n",
    ")"
   ]
  },
  {
   "cell_type": "code",
   "execution_count": 1680,
   "id": "0991eadb",
   "metadata": {},
   "outputs": [],
   "source": [
    "# Connectome\n",
    "max_synapses = 10\n",
    "synapse_strength = np.ones((n_layers, n_layers))\n",
    "# neuron_types = [\"p23\", \"TRN\", \"b\", \"nb\"]\n",
    "connectivity_probability = np.ones((n_layers, n_layers, n_neuron_types, n_neuron_types+2))\n",
    "\n",
    "\n",
    "connectivity_probability[:,:,:,-2] = 0.0  # Self connections\n",
    "connectivity_probability[:,:,:,-1] = 0.0  # No empty connections\n",
    "# No inter-connections for input and output layers\n",
    "connectivity_probability[0, 0, :, :-2] = 0\n",
    "connectivity_probability[2, 2, :, :-2] = 0\n",
    "# Only flow in one direction\n",
    "connectivity_probability[1, 0, :, :-2] = 0.0\n",
    "connectivity_probability[2, 1, :, :-2] = 0.0\n",
    "connectivity_probability[2, 0, :, :-2] = 0.0\n",
    "# No jump from input to output\n",
    "connectivity_probability[0, 2, :, :-2] = 0.0"
   ]
  },
  {
   "cell_type": "code",
   "execution_count": 1681,
   "id": "3356d1ce",
   "metadata": {},
   "outputs": [],
   "source": [
    "connectome = Connectome(\n",
    "    max_synapses,\n",
    "    neuron_pop,\n",
    "    connectivity_probability,\n",
    "    synapse_strength,\n",
    ")"
   ]
  },
  {
   "cell_type": "code",
   "execution_count": 1682,
   "id": "2292e06d",
   "metadata": {},
   "outputs": [
    {
     "data": {
      "text/plain": [
       "array([[ 7,  8,  9, 11,  4,  7, 10,  4,  4,  2],\n",
       "       [ 2,  3,  7,  6,  6,  5, 11,  4,  7,  8],\n",
       "       [10, 13,  7,  6, 12,  7,  5,  6, 11,  4],\n",
       "       [ 5,  7,  5,  8,  5,  4,  7,  7,  8,  8],\n",
       "       [11, 11, 13,  3,  8,  3, 10, 10,  7, 10],\n",
       "       [12,  9, 13,  6,  7, 13,  8,  7, 11,  3],\n",
       "       [10,  7,  9,  9, 11,  2,  2,  5,  4,  8],\n",
       "       [ 6,  4,  3, 10, 13, 13,  8,  5, 11,  2],\n",
       "       [ 4,  3,  7, 13, 12,  2, 10, 10, 12,  3],\n",
       "       [10,  7, 13,  7,  5,  5,  6, 13,  8, 13],\n",
       "       [ 4,  8,  4,  6, 13, 13,  3, 11,  9,  8],\n",
       "       [ 7, 13,  3,  3,  6,  9,  4,  7,  4,  3],\n",
       "       [ 0,  0,  0,  0,  0,  0,  0,  0,  0,  0],\n",
       "       [ 0,  0,  0,  0,  0,  0,  0,  0,  0,  0]])"
      ]
     },
     "execution_count": 1682,
     "metadata": {},
     "output_type": "execute_result"
    }
   ],
   "source": [
    "connectome.M"
   ]
  },
  {
   "cell_type": "code",
   "execution_count": 1683,
   "id": "8bcdc149",
   "metadata": {},
   "outputs": [],
   "source": [
    "# connectome.distances"
   ]
  },
  {
   "cell_type": "code",
   "execution_count": 1684,
   "id": "25acf933",
   "metadata": {},
   "outputs": [],
   "source": [
    "sim = Simulation(connectome, dt, stepper_type=\"adapt\")\n",
    "sim.plasticity.mirror_neurons = [(0, -2), (1, -1)]"
   ]
  },
  {
   "cell_type": "code",
   "execution_count": 1685,
   "id": "b53bbaf5",
   "metadata": {},
   "outputs": [],
   "source": [
    "weights_t0 = connectome.W.copy()"
   ]
  },
  {
   "cell_type": "code",
   "execution_count": 1686,
   "id": "7f50074e",
   "metadata": {},
   "outputs": [],
   "source": [
    "# connectome.W.copy()"
   ]
  },
  {
   "cell_type": "code",
   "execution_count": 1687,
   "id": "da28a50a",
   "metadata": {},
   "outputs": [],
   "source": [
    "I_ext = np.zeros((neuron_pop.n_neurons))\n",
    "I_ext[1] = 100\n",
    "I_ext[2:-2] = 100\n",
    "\n",
    "# I_ext = 100\n",
    "\n",
    "for i in range(50000):\n",
    "    sim.step(I_ext=I_ext)\n",
    "    # print(sim.synapse_dynamics.g_ST)\n",
    "    # if np.sum(sim.pre_spikes) > 0:\n",
    "        # print(f\"Step {i}, {sim.t_now}, heap size: {(sim.axonal_dynamics._heap)}\")\n",
    "        # print(sim.pre_spikes)\n",
    "\n",
    "weights_t1 = connectome.W.copy()"
   ]
  },
  {
   "cell_type": "code",
   "execution_count": 1688,
   "id": "30bad97f",
   "metadata": {},
   "outputs": [
    {
     "data": {
      "text/plain": [
       "array([0.04042094, 1.36994818, 0.40515541, 0.3778169 , 0.37533944,\n",
       "       0.37515063, 0.40489469, 0.37713293, 0.37992721, 0.37029967,\n",
       "       0.37266775, 0.37118378, 0.04042094, 1.36994818])"
      ]
     },
     "execution_count": 1688,
     "metadata": {},
     "output_type": "execute_result"
    }
   ],
   "source": [
    "sim.plasticity.activity_trace"
   ]
  },
  {
   "cell_type": "code",
   "execution_count": 1689,
   "id": "bde28062",
   "metadata": {},
   "outputs": [],
   "source": [
    "# sim.synapse_dynamics.g_GABA_B"
   ]
  },
  {
   "cell_type": "code",
   "execution_count": 1690,
   "id": "18201338",
   "metadata": {},
   "outputs": [
    {
     "data": {
      "text/plain": [
       "array([False, False, False, False, False, False, False, False, False,\n",
       "       False, False, False, False, False])"
      ]
     },
     "execution_count": 1690,
     "metadata": {},
     "output_type": "execute_result"
    }
   ],
   "source": [
    "neuron_pop.inhibitory_mask"
   ]
  },
  {
   "cell_type": "code",
   "execution_count": 1691,
   "id": "7e0e9031",
   "metadata": {},
   "outputs": [
    {
     "data": {
      "text/plain": [
       "array([-63.82925096, -53.30340472, -44.69579979, -55.39821437,\n",
       "       -55.84355843, -54.80185813, -66.06961031, -56.19461357,\n",
       "       -57.17325931, -52.36198152, -55.10481701, -56.27411168,\n",
       "       -61.44956224, -59.20634358])"
      ]
     },
     "execution_count": 1691,
     "metadata": {},
     "output_type": "execute_result"
    }
   ],
   "source": [
    "sim.neuron_states.V"
   ]
  },
  {
   "cell_type": "code",
   "execution_count": 1692,
   "id": "59e177ec",
   "metadata": {},
   "outputs": [
    {
     "data": {
      "text/plain": [
       "array([[0.08132041, 0.00097153, 0.30884171, 0.08460676, 0.07926633,\n",
       "        0.04394072, 0.25410548, 0.13048259, 0.17638564, 0.0639896 ],\n",
       "       [0.10171827, 0.06846979, 0.03626807, 0.08744324, 0.09902085,\n",
       "        0.05797134, 0.08034975, 0.05133088, 0.05891654, 0.01037449],\n",
       "       [0.00475538, 0.04748111, 0.09737194, 0.03150333, 0.1551703 ,\n",
       "        0.08575944, 0.08876705, 0.06052419, 0.04665593, 0.10523993],\n",
       "       [0.16329527, 0.04636691, 0.16774687, 0.05352183, 0.09424798,\n",
       "        0.08749377, 0.03779758, 0.0886519 , 0.08394291, 0.10059685],\n",
       "       [0.16742703, 0.16262411, 0.09963944, 0.10838956, 0.15863812,\n",
       "        0.11488922, 0.17354862, 0.0770741 , 0.07070709, 0.18983295],\n",
       "       [0.16130537, 0.27781755, 0.34501228, 0.14340751, 0.06803902,\n",
       "        0.31769788, 0.12257779, 0.00981808, 0.11455006, 0.08798337],\n",
       "       [0.07103538, 0.0744853 , 0.14169557, 0.12709132, 0.14776912,\n",
       "        0.27815271, 0.16883366, 0.14280173, 0.12517371, 0.10070121],\n",
       "       [0.10904066, 0.05817012, 0.04476607, 0.13007445, 0.217201  ,\n",
       "        0.05940201, 0.13920103, 0.07282835, 0.10607479, 0.24876927],\n",
       "       [0.07688759, 0.09138134, 0.01372024, 0.13252622, 0.06762245,\n",
       "        0.10387103, 0.12403292, 0.11555259, 0.21993796, 0.07869758],\n",
       "       [0.02032642, 0.02473111, 0.16258928, 0.08280181, 0.14164642,\n",
       "        0.04036256, 0.03523713, 0.22445368, 0.04462937, 0.29687913],\n",
       "       [0.10972268, 0.13051498, 0.082502  , 0.09280178, 0.14455754,\n",
       "        0.15285754, 0.11516212, 0.06045136, 0.12482673, 0.12051287],\n",
       "       [0.07433501, 0.2949337 , 0.04241404, 0.13113743, 0.16068297,\n",
       "        0.19608401, 0.10224823, 0.03206429, 0.03267669, 0.11546584],\n",
       "       [0.        , 0.        , 0.        , 0.        , 0.        ,\n",
       "        0.        , 0.        , 0.        , 0.        , 0.        ],\n",
       "       [0.        , 0.        , 0.        , 0.        , 0.        ,\n",
       "        0.        , 0.        , 0.        , 0.        , 0.        ]])"
      ]
     },
     "execution_count": 1692,
     "metadata": {},
     "output_type": "execute_result"
    }
   ],
   "source": [
    "weights_t1 # [neuron_pop.inhibitory_mask]"
   ]
  },
  {
   "cell_type": "code",
   "execution_count": 1693,
   "id": "3b34bc6b",
   "metadata": {},
   "outputs": [
    {
     "data": {
      "text/plain": [
       "array([[-1.03843856, -0.00741546, -0.98028779, -0.46209362, -0.70388873,\n",
       "        -0.5611106 , -1.26792984, -1.15869162, -1.56631285, -0.2526786 ],\n",
       "       [-0.73449069, -1.12025717, -0.90054994, -1.23601885, -1.39966956,\n",
       "        -0.73179937, -0.83002843, -0.70816346, -1.46292023, -0.13327531],\n",
       "       [-0.03078351, -0.16268735, -1.80815914, -0.3049573 , -1.26913234,\n",
       "        -1.59251952, -0.85289249, -0.58588391, -0.36560406, -1.25443419],\n",
       "       [-1.68105376, -0.92646999, -1.72688107, -0.60332974, -0.97024199,\n",
       "        -1.12228846, -0.75524385, -1.77137819, -0.94625429, -1.13398731],\n",
       "       [-1.34000419, -1.30156398, -0.3697549 , -1.37923871, -1.70841974,\n",
       "        -1.46194568, -1.15536394, -0.51310485, -1.34421583, -1.26377355],\n",
       "       [-1.33438938, -1.1647994 , -1.28529593, -1.42086433, -1.30046192,\n",
       "        -1.18353989, -1.3266606 , -0.18765752, -0.92135378, -1.12534214],\n",
       "       [-0.46201578, -1.3905795 , -0.57842606, -0.51880899, -1.16343085,\n",
       "        -1.55651091, -0.94477396, -1.37877615, -1.49968591, -1.06303381],\n",
       "       [-1.13498761, -0.7494972 , -0.60028957, -0.90737989, -0.82652381,\n",
       "        -0.22604489, -1.57616302, -0.75318741, -0.89342027, -1.48404219],\n",
       "       [-0.98604335, -1.21937032, -0.27405989, -0.50323811, -0.58782864,\n",
       "        -0.61681508, -0.86144232, -0.80254417, -1.91187742, -1.05012133],\n",
       "       [-0.12435375, -0.42663868, -0.57356132, -1.42842203, -1.26845684,\n",
       "        -0.36145045, -0.31515206, -0.7917985 , -0.43934071, -1.04729159],\n",
       "       [-1.28704514, -1.34510498, -0.96774707, -0.87198062, -0.52463361,\n",
       "        -0.55475627, -1.39966484, -0.46260836, -0.50108729, -1.24202189],\n",
       "       [-1.35382305, -1.07515759, -0.51788874, -1.60122931, -1.51695169,\n",
       "        -0.79051951, -1.20492912, -0.58396936, -0.38507364, -1.40987431],\n",
       "       [ 0.        ,  0.        ,  0.        ,  0.        ,  0.        ,\n",
       "         0.        ,  0.        ,  0.        ,  0.        ,  0.        ],\n",
       "       [ 0.        ,  0.        ,  0.        ,  0.        ,  0.        ,\n",
       "         0.        ,  0.        ,  0.        ,  0.        ,  0.        ]])"
      ]
     },
     "execution_count": 1693,
     "metadata": {},
     "output_type": "execute_result"
    }
   ],
   "source": [
    "weights_t1 -   weights_t0"
   ]
  },
  {
   "cell_type": "code",
   "execution_count": 1694,
   "id": "e7dca28e",
   "metadata": {},
   "outputs": [
    {
     "data": {
      "image/png": "[encoded data removed]",
      "text/plain": [
       "<Figure size 640x480 with 1 Axes>"
      ]
     },
     "metadata": {},
     "output_type": "display_data"
    }
   ],
   "source": [
    "plt.plot(np.array(sim.stats.Vs)[:, neuron_pop.get_neurons_from_layer(2)])\n",
    "plt.show()"
   ]
  },
  {
   "cell_type": "code",
   "execution_count": 1695,
   "id": "c314082b",
   "metadata": {},
   "outputs": [
    {
     "data": {
      "image/png": "[encoded data removed]",
      "text/plain": [
       "<Figure size 640x480 with 1 Axes>"
      ]
     },
     "metadata": {},
     "output_type": "display_data"
    }
   ],
   "source": [
    "plt.plot(np.array(sim.stats.spikes)[:, neuron_pop.get_neurons_from_layer(0)])\n",
    "plt.show()"
   ]
  }
 ],
 "metadata": {
  "kernelspec": {
   "display_name": "neuro",
   "language": "python",
   "name": "python3"
  },
  "language_info": {
   "codemirror_mode": {
    "name": "ipython",
    "version": 3
   },
   "file_extension": ".py",
   "mimetype": "text/x-python",
   "name": "python",
   "nbconvert_exporter": "python",
   "pygments_lexer": "ipython3",
   "version": "3.13.1"
  }
 },
 "nbformat": 4,
 "nbformat_minor": 5
}
