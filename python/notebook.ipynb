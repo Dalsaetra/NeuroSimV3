{
 "cells": [
  {
   "cell_type": "code",
   "execution_count": 176,
   "id": "52e0b534",
   "metadata": {},
   "outputs": [
    {
     "name": "stdout",
     "output_type": "stream",
     "text": [
      "The autoreload extension is already loaded. To reload it, use:\n",
      "  %reload_ext autoreload\n"
     ]
    }
   ],
   "source": [
    "%load_ext autoreload\n",
    "%autoreload 2"
   ]
  },
  {
   "cell_type": "code",
   "execution_count": 177,
   "id": "979e6048",
   "metadata": {},
   "outputs": [],
   "source": [
    "import numpy as np\n",
    "import matplotlib.pyplot as plt\n",
    "\n",
    "from neuron_population import NeuronPopulation\n",
    "from connectome import Connectome\n",
    "from overhead import Simulation"
   ]
  },
  {
   "cell_type": "code",
   "execution_count": 178,
   "id": "5322ff08",
   "metadata": {},
   "outputs": [],
   "source": [
    "dt = 0.1"
   ]
  },
  {
   "cell_type": "code",
   "execution_count": 179,
   "id": "413d2ffe",
   "metadata": {},
   "outputs": [],
   "source": [
    "# Neuron population parameters\n",
    "layer_distribution = [10, 10]\n",
    "n_layers = 2\n",
    "neuron_types = [\"p23\", \"TRN\", \"b\", \"nb\"]\n",
    "n_neuron_types = len(neuron_types)\n",
    "inhibitory = [False, False, True, True]\n",
    "dist_layer1 = np.array([60, 20, 10, 10])\n",
    "dist_layer2 = np.array([40, 40, 10, 10])\n",
    "neuron_distribution = [dist_layer1, dist_layer2]\n",
    "threshold_decay = np.exp(-dt / 1)\n",
    "layer_distances = np.zeros((n_layers, n_layers))\n",
    "# mm\n",
    "layer_distances[0, 0] = 0.6\n",
    "layer_distances[1, 1] = 0.6\n",
    "layer_distances[0, 1] = 5.0\n",
    "layer_distances[1, 0] = 5.0"
   ]
  },
  {
   "cell_type": "code",
   "execution_count": 180,
   "id": "d51e243b",
   "metadata": {},
   "outputs": [],
   "source": [
    "neuron_pop = NeuronPopulation(\n",
    "    layer_distribution,\n",
    "    neuron_distribution,\n",
    "    layer_distances,\n",
    "    neuron_types,\n",
    "    inhibitory,\n",
    "    threshold_decay,\n",
    "    threshold_mult=1.0\n",
    ")"
   ]
  },
  {
   "cell_type": "code",
   "execution_count": 181,
   "id": "d152229d",
   "metadata": {},
   "outputs": [],
   "source": [
    "# Connectome\n",
    "max_synapses = 5\n",
    "synapse_strength = np.ones((n_layers, n_layers))\n",
    "# neuron_types = [\"p23\", \"TRN\", \"b\", \"nb\"]\n",
    "connectivity_probability = np.zeros((n_layers, n_layers, n_neuron_types, n_neuron_types))\n",
    "connectivity_probability[0, 0, 0, 0] = 60\n",
    "connectivity_probability[0, 0, 1, 0] = 1\n",
    "connectivity_probability[0, 0, 2, 0] = 9\n",
    "connectivity_probability[0, 0, 3, 0] = 5\n",
    "\n",
    "connectivity_probability[0, 0, 0, 0] = 60\n",
    "connectivity_probability[0, 0, 0, 1] = 1\n",
    "connectivity_probability[0, 0, 0, 2] = 9\n",
    "connectivity_probability[0, 0, 0, 3] = 5\n",
    "\n",
    "connectivity_probability[1, 1, 0, 0] = 60\n",
    "connectivity_probability[1, 1, 1, 0] = 1\n",
    "connectivity_probability[1, 1, 2, 0] = 9\n",
    "connectivity_probability[1, 1, 3, 0] = 5\n",
    "\n",
    "connectivity_probability[1, 1, 0, 0] = 60\n",
    "connectivity_probability[1, 1, 0, 1] = 1\n",
    "connectivity_probability[1, 1, 0, 2] = 9\n",
    "connectivity_probability[1, 1, 0, 3] = 5"
   ]
  },
  {
   "cell_type": "code",
   "execution_count": 182,
   "id": "174a10f3",
   "metadata": {},
   "outputs": [
    {
     "data": {
      "text/plain": [
       "np.str_('p23')"
      ]
     },
     "execution_count": 182,
     "metadata": {},
     "output_type": "execute_result"
    }
   ],
   "source": [
    "neuron_pop.type_from_neuron_index(0)\n"
   ]
  },
  {
   "cell_type": "code",
   "execution_count": 183,
   "id": "bb8c8375",
   "metadata": {},
   "outputs": [],
   "source": [
    "connectome = Connectome(\n",
    "    max_synapses,\n",
    "    neuron_pop,\n",
    "    connectivity_probability,\n",
    "    synapse_strength,\n",
    ")"
   ]
  },
  {
   "cell_type": "code",
   "execution_count": 184,
   "id": "838aa9cb",
   "metadata": {},
   "outputs": [],
   "source": [
    "sim = Simulation(connectome, dt, stepper_type=\"adapt\")"
   ]
  },
  {
   "cell_type": "code",
   "execution_count": null,
   "id": "84e8a7e4",
   "metadata": {},
   "outputs": [],
   "source": [
    "I_ext = 35\n",
    "\n",
    "for i in range(10000):\n",
    "    sim.step(I_ext=I_ext)"
   ]
  },
  {
   "cell_type": "code",
   "execution_count": 186,
   "id": "9fbb7ff2",
   "metadata": {},
   "outputs": [
    {
     "data": {
      "text/plain": [
       "array([0, 1, 2, 3, 4, 5, 6, 7, 8, 9])"
      ]
     },
     "execution_count": 186,
     "metadata": {},
     "output_type": "execute_result"
    }
   ],
   "source": [
    "neuron_pop.get_types_from_layer(0)\n",
    "neuron_pop.get_neurons_from_layer(0)"
   ]
  },
  {
   "cell_type": "code",
   "execution_count": 195,
   "id": "a5a88748",
   "metadata": {},
   "outputs": [
    {
     "data": {
      "image/png": "[encoded data removed]",
      "text/plain": [
       "<Figure size 640x480 with 1 Axes>"
      ]
     },
     "metadata": {},
     "output_type": "display_data"
    }
   ],
   "source": [
    "plt.plot(np.array(sim.stats.Vs)[:, neuron_pop.get_neurons_from_layer(0)])\n",
    "plt.show()"
   ]
  },
  {
   "cell_type": "markdown",
   "id": "c2f34877",
   "metadata": {},
   "source": [
    "## Cortical column"
   ]
  },
  {
   "cell_type": "code",
   "execution_count": 207,
   "id": "c1f3aae3",
   "metadata": {},
   "outputs": [],
   "source": [
    "n_neurons = 200\n",
    "max_synapses = 200\n",
    "n_layers = 6\n",
    "\n",
    "layer_percentages = [1.5, 26 + 3.1 + 4.2, 9.2 + 9.2 + 9.2 + 5.4 + 1.5, 4.8 + 1.3 + 0.6 + 0.8,\n",
    "                     13.6 + 4.5 + 2 + 2, 0.5 + 0.5 + 0.1 + 0.1 + 0.5]\n",
    "\n",
    "layer_dist = list(np.array(layer_percentages) / 100.0 * n_neurons)\n",
    "# Convert elements to integers, rounding down\n",
    "neurons_per_layer = [int(np.floor(x)) for x in layer_dist]"
   ]
  },
  {
   "cell_type": "code",
   "execution_count": 208,
   "id": "a2dedfef",
   "metadata": {},
   "outputs": [],
   "source": [
    "neuron_types = [\"nb1\", \"p23\", \"b\", \"nb\", \"ss4\", \"p4\", \"p5_p6\", \"TC\", \"TI\", \"TRN\"]\n",
    "n_neuron_types = len(neuron_types)\n",
    "inhibitory = [True, False, True, True, False, False, False, False, True, True]"
   ]
  },
  {
   "cell_type": "code",
   "execution_count": 209,
   "id": "0f811e30",
   "metadata": {},
   "outputs": [],
   "source": [
    "dist_layers = np.zeros((n_layers, n_neuron_types))\n",
    "dist_layers[0, 0] = 1.0\n",
    "\n",
    "dist_layers[1, 1] = 26.0\n",
    "dist_layers[1, 2] = 3.1\n",
    "dist_layers[1, 3] = 4.2\n",
    "\n",
    "dist_layers[2, 2] = 5.4\n",
    "dist_layers[2, 3] = 1.5\n",
    "dist_layers[2, 4] = 9.2 + 9.2\n",
    "dist_layers[2, 5] = 9.2\n",
    "\n",
    "dist_layers[3, 6] = 4.8 + 1.3\n",
    "dist_layers[3, 2] = 0.6\n",
    "dist_layers[3, 3] = 0.8\n",
    "\n",
    "dist_layers[4, 6] = 4.5\n",
    "dist_layers[4, 2] = 2\n",
    "dist_layers[4, 3] = 2\n",
    "\n",
    "dist_layers[5, 7] = 1\n",
    "dist_layers[5, 8] = 0.2\n",
    "dist_layers[5, 9] = 0.5"
   ]
  },
  {
   "cell_type": "code",
   "execution_count": 210,
   "id": "9afed744",
   "metadata": {},
   "outputs": [],
   "source": [
    "threshold_decay = np.exp(-dt / 1)"
   ]
  },
  {
   "cell_type": "code",
   "execution_count": 211,
   "id": "41a8066b",
   "metadata": {},
   "outputs": [
    {
     "data": {
      "text/plain": [
       "array([[0.3, 0.6, 1.2, 1.8, 2.4, 3. ],\n",
       "       [0.6, 0.3, 0.6, 1.2, 1.8, 2.4],\n",
       "       [1.2, 0.6, 0.3, 0.6, 1.2, 1.8],\n",
       "       [1.8, 1.2, 0.6, 0.3, 0.6, 1.2],\n",
       "       [2.4, 1.8, 1.2, 0.6, 0.3, 0.6],\n",
       "       [3. , 2.4, 1.8, 1.2, 0.6, 0.3]])"
      ]
     },
     "execution_count": 211,
     "metadata": {},
     "output_type": "execute_result"
    }
   ],
   "source": [
    "layer_distances = np.zeros((n_layers, n_layers))\n",
    "# mm\n",
    "# Fill diagonal with 0.6 mm (vectorized)\n",
    "layer_distances[np.diag_indices(n_layers)] = 0.3\n",
    "# Fill all other elements with the difference of the index times 0.6\n",
    "for i in range(n_layers):\n",
    "    for j in range(n_layers):\n",
    "        if i != j:\n",
    "            layer_distances[i, j] = abs(i - j) * 0.6\n",
    "\n",
    "layer_distances"
   ]
  },
  {
   "cell_type": "code",
   "execution_count": 212,
   "id": "32236a0b",
   "metadata": {},
   "outputs": [],
   "source": [
    "synapse_strength = np.ones((n_layers, n_layers))"
   ]
  },
  {
   "cell_type": "code",
   "execution_count": 213,
   "id": "a90c4317",
   "metadata": {},
   "outputs": [],
   "source": [
    "neuron_pop = NeuronPopulation(\n",
    "    neurons_per_layer,\n",
    "    dist_layers,\n",
    "    layer_distances,\n",
    "    neuron_types,\n",
    "    inhibitory,\n",
    "    threshold_decay,\n",
    "    threshold_mult=1.0\n",
    ")"
   ]
  },
  {
   "cell_type": "code",
   "execution_count": 214,
   "id": "ea3a46ea",
   "metadata": {},
   "outputs": [],
   "source": [
    "C = np.load(\"connectivity_matrix.npy\")"
   ]
  },
  {
   "cell_type": "code",
   "execution_count": 215,
   "id": "2fbf5ac3",
   "metadata": {},
   "outputs": [],
   "source": [
    "connectome = Connectome(\n",
    "    max_synapses,\n",
    "    neuron_pop,\n",
    "    C,\n",
    "    synapse_strength,\n",
    ")"
   ]
  },
  {
   "cell_type": "code",
   "execution_count": 216,
   "id": "9e26aedc",
   "metadata": {},
   "outputs": [],
   "source": [
    "sim = Simulation(connectome, dt, stepper_type=\"adapt\")"
   ]
  },
  {
   "cell_type": "code",
   "execution_count": 220,
   "id": "4251e4ab",
   "metadata": {},
   "outputs": [],
   "source": [
    "I_ext = 35\n",
    "\n",
    "for i in range(1000):\n",
    "    sim.step(I_ext=I_ext)"
   ]
  },
  {
   "cell_type": "code",
   "execution_count": 221,
   "id": "bebb3f44",
   "metadata": {},
   "outputs": [
    {
     "data": {
      "text/plain": [
       "array([0, 1, 2])"
      ]
     },
     "execution_count": 221,
     "metadata": {},
     "output_type": "execute_result"
    }
   ],
   "source": [
    "neuron_pop.get_types_from_layer(0)\n",
    "neuron_pop.get_neurons_from_layer(0)"
   ]
  },
  {
   "cell_type": "code",
   "execution_count": 222,
   "id": "7fc799ed",
   "metadata": {},
   "outputs": [
    {
     "data": {
      "image/png": "[encoded data removed]",
      "text/plain": [
       "<Figure size 640x480 with 1 Axes>"
      ]
     },
     "metadata": {},
     "output_type": "display_data"
    }
   ],
   "source": [
    "plt.plot(np.array(sim.stats.Vs))\n",
    "plt.show()"
   ]
  }
 ],
 "metadata": {
  "kernelspec": {
   "display_name": "neuro",
   "language": "python",
   "name": "python3"
  },
  "language_info": {
   "codemirror_mode": {
    "name": "ipython",
    "version": 3
   },
   "file_extension": ".py",
   "mimetype": "text/x-python",
   "name": "python",
   "nbconvert_exporter": "python",
   "pygments_lexer": "ipython3",
   "version": "3.13.1"
  }
 },
 "nbformat": 4,
 "nbformat_minor": 5
}
