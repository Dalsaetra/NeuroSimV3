{
 "cells": [
  {
   "cell_type": "code",
   "execution_count": null,
   "id": "422b8533",
   "metadata": {},
   "outputs": [],
   "source": [
    "# Append src directory to path\n",
    "import sys\n",
    "sys.path.append('C:\\\\Users\\\\kingt\\\\Dropbox\\\\Programming\\\\NeuralSimV3\\\\NeuroSimV3\\\\python\\\\src')"
   ]
  },
  {
   "cell_type": "code",
   "execution_count": 1,
   "id": "522226fe",
   "metadata": {},
   "outputs": [],
   "source": [
    "%load_ext autoreload\n",
    "%autoreload 2"
   ]
  },
  {
   "cell_type": "code",
   "execution_count": 2,
   "id": "2c60fd5d",
   "metadata": {},
   "outputs": [],
   "source": [
    "import numpy as np\n",
    "import matplotlib.pyplot as plt\n",
    "\n",
    "\n",
    "from neuron_population import NeuronPopulation\n",
    "from connectome import Connectome\n",
    "from overhead import Simulation\n",
    "import networkx as nx\n",
    "from networkx.algorithms import smallworld\n",
    "import random\n",
    "from collections import Counter"
   ]
  },
  {
   "cell_type": "code",
   "execution_count": 3,
   "id": "ca6f1989",
   "metadata": {},
   "outputs": [],
   "source": [
    "dt = 0.1"
   ]
  },
  {
   "cell_type": "code",
   "execution_count": 4,
   "id": "4c67b86f",
   "metadata": {},
   "outputs": [],
   "source": [
    "n = 100       # total neurons\n",
    "k = 4        # each neuron initially connects to k neighbors (k must be even)\n",
    "p = 0.85     # rewiring probability\n",
    "\n",
    "# 1. Generate an undirected WS graph\n",
    "G_undirected = nx.newman_watts_strogatz_graph(n, k, p)\n",
    "# G_undirected = nx.watts_strogatz_graph(n, k, p)\n"
   ]
  },
  {
   "cell_type": "code",
   "execution_count": 5,
   "id": "e9f9e9be",
   "metadata": {},
   "outputs": [],
   "source": [
    "# Parameters\n",
    "N   = 50       # total number of neurons\n",
    "m   = 4          # each new node attaches to m existing nodes (so average degree ≈ 2m)\n",
    "p_T = 0.3        # “triad‐formation probability”: higher → more triangles → higher clustering\n",
    "\n",
    "# Generate an undirected powerlaw‐cluster graph\n",
    "G_undirected = nx.powerlaw_cluster_graph(n=N, m=m, p=p_T)"
   ]
  },
  {
   "cell_type": "code",
   "execution_count": 6,
   "id": "5ee31ec2",
   "metadata": {},
   "outputs": [],
   "source": [
    "# 2. Convert to directed by randomly orienting each edge\n",
    "G_directed = nx.DiGraph()\n",
    "G_directed.add_nodes_from(G_undirected.nodes())\n",
    "for u, v in G_undirected.edges():\n",
    "    if random.random() < 0.50:\n",
    "        G_directed.add_edge(u, v)\n",
    "    else:\n",
    "        G_directed.add_edge(v, u)\n",
    "\n",
    "# Ensure every node has at least 1 out edge\n",
    "for node in G_directed.nodes():\n",
    "    if G_directed.out_degree(node) == 0:\n",
    "        # Pick a random target (not self, not already connected)\n",
    "        possible_targets = [n for n in G_directed.nodes() if n != node and not G_directed.has_edge(node, n)]\n",
    "        if possible_targets:\n",
    "            target = random.choice(possible_targets)\n",
    "            G_directed.add_edge(node, target)"
   ]
  },
  {
   "cell_type": "code",
   "execution_count": 7,
   "id": "465badee",
   "metadata": {},
   "outputs": [
    {
     "name": "stdout",
     "output_type": "stream",
     "text": [
      "1.0338863892013497\n",
      "0.007972440944881809\n"
     ]
    }
   ],
   "source": [
    "G_undirected = G_directed.to_undirected()\n",
    "\n",
    "print(smallworld.sigma(G_undirected, 10, 1))\n",
    "print(smallworld.omega(G_undirected, 2, 4))"
   ]
  },
  {
   "cell_type": "code",
   "execution_count": 8,
   "id": "a9213176",
   "metadata": {},
   "outputs": [
    {
     "name": "stdout",
     "output_type": "stream",
     "text": [
      "Nodes: 50, Edges: 181\n",
      "In-degree dist: Counter({3: 13, 2: 12, 5: 6, 4: 6, 6: 4, 1: 4, 7: 2, 9: 1, 13: 1, 0: 1})\n",
      "Out-degree dist: Counter({2: 17, 3: 11, 1: 8, 5: 3, 4: 3, 10: 2, 7: 2, 17: 1, 9: 1, 13: 1, 6: 1})\n",
      "Total-degree dist: Counter({4: 13, 5: 13, 7: 5, 6: 5, 9: 4, 8: 3, 23: 2, 19: 1, 14: 1, 18: 1, 13: 1, 10: 1})\n"
     ]
    },
    {
     "data": {
      "image/png": "[encoded data removed]",
      "text/plain": [
       "<Figure size 640x480 with 1 Axes>"
      ]
     },
     "metadata": {},
     "output_type": "display_data"
    }
   ],
   "source": [
    "# --- 1. Basic stats\n",
    "n = G_directed.number_of_nodes()\n",
    "m = G_directed.number_of_edges()\n",
    "print(f\"Nodes: {n}, Edges: {m}\")\n",
    "\n",
    "# --- 2. Degree stats\n",
    "in_deg  = dict(G_directed.in_degree())\n",
    "out_deg = dict(G_directed.out_degree())\n",
    "tot_deg = {i: in_deg.get(i,0) + out_deg.get(i,0) for i in G_directed.nodes}\n",
    "\n",
    "# Degree distributions\n",
    "print(\"In-degree dist:\", Counter(in_deg.values()))\n",
    "print(\"Out-degree dist:\", Counter(out_deg.values()))\n",
    "print(\"Total-degree dist:\", Counter(tot_deg.values()))\n",
    "\n",
    "# Optional: histogram of total degree\n",
    "plt.hist(list(tot_deg.values()), bins=20, edgecolor='black')\n",
    "plt.title(\"Total-degree distribution\")\n",
    "plt.xlabel(\"Degree\")\n",
    "plt.ylabel(\"Count\")\n",
    "plt.show()"
   ]
  },
  {
   "cell_type": "code",
   "execution_count": 9,
   "id": "aef73638",
   "metadata": {},
   "outputs": [
    {
     "name": "stdout",
     "output_type": "stream",
     "text": [
      "Warning: When  cdn_resources is 'local' jupyter notebook has issues displaying graphics on chrome/safari. Use cdn_resources='in_line' or cdn_resources='remote' if you have issues viewing graphics in a notebook.\n",
      "connectome1.html\n"
     ]
    },
    {
     "data": {
      "text/html": [
       "\n",
       "        <iframe\n",
       "            width=\"100%\"\n",
       "            height=\"750px\"\n",
       "            src=\"connectome1.html\"\n",
       "            frameborder=\"0\"\n",
       "            allowfullscreen\n",
       "            \n",
       "        ></iframe>\n",
       "        "
      ],
      "text/plain": [
       "<IPython.lib.display.IFrame at 0x19f7073b770>"
      ]
     },
     "execution_count": 9,
     "metadata": {},
     "output_type": "execute_result"
    }
   ],
   "source": [
    "html_file = \"connectome1.html\" \n",
    "notebook: bool = True\n",
    "colour_scheme: str = \"layer\" \n",
    "node_size_scale: float = 2.0\n",
    "\n",
    "try:\n",
    "    from pyvis.network import Network\n",
    "except ImportError:\n",
    "    raise ImportError(\"pyvis not found - install with `pip install pyvis`\")\n",
    "\n",
    "net = Network(height=\"750px\", width=\"100%\", directed=True,\n",
    "            notebook=notebook, bgcolor=\"#ffffff\")\n",
    "net.repulsion()\n",
    "\n",
    "# Compute each node's total degree\n",
    "deg_in  = dict(G_directed.in_degree())\n",
    "deg_out = dict(G_directed.out_degree())\n",
    "total_deg = {n: deg_in.get(n, 0) + deg_out.get(n, 0) for n in G_directed.nodes}\n",
    "\n",
    "# -------- nodes (with colours, tooltips, and dynamic sizes) ----------\n",
    "import matplotlib.colors as mcolors\n",
    "palette = list(mcolors.TABLEAU_COLORS.values()) + list(mcolors.CSS4_COLORS.values())\n",
    "\n",
    "for n in G_directed.nodes:\n",
    "    # Build hover title\n",
    "    title = (\n",
    "        f\"Neuron {n}<br/>\"\n",
    "        f\"InDegree: {deg_in.get(n, 0)}<br/>OutDegree: {deg_out.get(n, 0)}\"\n",
    "    )\n",
    "\n",
    "    # Size = (total_degree + 1) * node_size_scale\n",
    "    size = (total_deg.get(n, 0) + 1) * node_size_scale\n",
    "\n",
    "    net.add_node(n,\n",
    "                label=str(n),\n",
    "                title=title,\n",
    "                size=size)\n",
    "\n",
    "# -------- edges ------------\n",
    "for u, v, data in G_directed.edges(data=True):\n",
    "    w = data.get(\"weight\", None)\n",
    "    syn_idx = data.get(\"synapse_index\", None)\n",
    "    dist = data.get(\"distance\", None)  # anatomical distance\n",
    "    # If distance is missing or zero, fallback to a small positive default\n",
    "    length = float(dist) if (dist is not None and dist > 0.0) else 50.0\n",
    "\n",
    "    # Edge thickness ∝ |weight|\n",
    "    thickness = abs(w) if w is not None else 1.0\n",
    "\n",
    "    hover_txt = []\n",
    "    if syn_idx is not None:\n",
    "        hover_txt.append(f\"synapse_index = {syn_idx}\")\n",
    "    if w is not None:\n",
    "        hover_txt.append(f\"weight = {w:.3f}\")\n",
    "    if dist is not None:\n",
    "        hover_txt.append(f\"distance = {dist:.2f}\")\n",
    "\n",
    "    net.add_edge(\n",
    "        u,\n",
    "        v,\n",
    "        value   = thickness * 0.1,         # edge thickness ∝ |weight|\n",
    "        title   = \"<br/>\".join(hover_txt),\n",
    "        length  = length * 20              # rest‐length ≈ anatomical distance\n",
    "    )\n",
    "\n",
    "net.show(html_file)"
   ]
  },
  {
   "cell_type": "code",
   "execution_count": 10,
   "id": "2824082a",
   "metadata": {},
   "outputs": [
    {
     "ename": "NameError",
     "evalue": "name 'G' is not defined",
     "output_type": "error",
     "traceback": [
      "\u001b[31m---------------------------------------------------------------------------\u001b[39m",
      "\u001b[31mNameError\u001b[39m                                 Traceback (most recent call last)",
      "\u001b[36mCell\u001b[39m\u001b[36m \u001b[39m\u001b[32mIn[10]\u001b[39m\u001b[32m, line 6\u001b[39m\n\u001b[32m      3\u001b[39m \u001b[38;5;28;01mfrom\u001b[39;00m\u001b[38;5;250m \u001b[39m\u001b[34;01mcollections\u001b[39;00m\u001b[38;5;250m \u001b[39m\u001b[38;5;28;01mimport\u001b[39;00m Counter\n\u001b[32m      5\u001b[39m \u001b[38;5;66;03m# --- 1. Basic stats\u001b[39;00m\n\u001b[32m----> \u001b[39m\u001b[32m6\u001b[39m n = \u001b[43mG\u001b[49m.number_of_nodes()\n\u001b[32m      7\u001b[39m m = G.number_of_edges()\n\u001b[32m      8\u001b[39m \u001b[38;5;28mprint\u001b[39m(\u001b[33mf\u001b[39m\u001b[33m\"\u001b[39m\u001b[33mNodes: \u001b[39m\u001b[38;5;132;01m{\u001b[39;00mn\u001b[38;5;132;01m}\u001b[39;00m\u001b[33m, Edges: \u001b[39m\u001b[38;5;132;01m{\u001b[39;00mm\u001b[38;5;132;01m}\u001b[39;00m\u001b[33m\"\u001b[39m)\n",
      "\u001b[31mNameError\u001b[39m: name 'G' is not defined"
     ]
    }
   ],
   "source": [
    "import networkx as nx\n",
    "from networkx.algorithms import smallworld\n",
    "from collections import Counter\n",
    "\n",
    "# --- 1. Basic stats\n",
    "n = G.number_of_nodes()\n",
    "m = G.number_of_edges()\n",
    "print(f\"Nodes: {n}, Edges: {m}\")\n",
    "\n",
    "# --- 2. Degree stats\n",
    "in_deg  = dict(G.in_degree())\n",
    "out_deg = dict(G.out_degree())\n",
    "tot_deg = {i: in_deg.get(i,0) + out_deg.get(i,0) for i in G.nodes}\n",
    "\n",
    "# Degree distributions\n",
    "print(\"In-degree dist:\", Counter(in_deg.values()))\n",
    "print(\"Out-degree dist:\", Counter(out_deg.values()))\n",
    "print(\"Total-degree dist:\", Counter(tot_deg.values()))\n",
    "\n",
    "# Optional: histogram of total degree\n",
    "plt.hist(list(tot_deg.values()), bins=20, edgecolor='black')\n",
    "plt.title(\"Total-degree distribution\")\n",
    "plt.xlabel(\"Degree\")\n",
    "plt.ylabel(\"Count\")\n",
    "plt.show()\n",
    "\n",
    "# --- 3. Connectivity\n",
    "wcc = list(nx.weakly_connected_components(G))\n",
    "scc = list(nx.strongly_connected_components(G))\n",
    "print(f\"Weakly CCs: {len(wcc)}, Strongly CCs: {len(scc)}\")\n",
    "\n",
    "# Largest (weakly) connected subgraph for undirected metrics\n",
    "Gu = G.to_undirected()\n",
    "largest_cc = max(nx.connected_components(Gu), key=len)\n",
    "G_cc = Gu.subgraph(largest_cc).copy()\n",
    "\n",
    "print(f\"Largest WCC size (nodes): {G_cc.number_of_nodes()}\")\n",
    "print(f\"Largest WCC size (edges): {G_cc.number_of_edges()}\")\n",
    "\n",
    "# --- 4. Centralities (example: top 5 in‐degree and betweenness)\n",
    "deg_cent_in  = nx.in_degree_centrality(G)\n",
    "bw_cent      = nx.betweenness_centrality(G, k=None, normalized=True)  # expensive if k=None\n",
    "cl_cent      = nx.closeness_centrality(G)\n",
    "\n",
    "print(\"Top 5 by in-degree centrality:\", sorted(deg_cent_in.items(), key=lambda x: x[1], reverse=True)[:5])\n",
    "print(\"Top 5 by betweenness centrality:\", sorted(bw_cent.items(), key=lambda x: x[1], reverse=True)[:5])\n",
    "print(\"Top 5 by closeness centrality:\", sorted(cl_cent.items(), key=lambda x: x[1], reverse=True)[:5])\n",
    "\n",
    "# --- 5. Clustering & transitivity (undirected)\n",
    "C_G = nx.average_clustering(G_cc)\n",
    "T_G = nx.transitivity(G_cc)\n",
    "print(f\"Avg clustering (C_G): {C_G:.4f}, Transitivity: {T_G:.4f}\")\n",
    "\n",
    "# --- 6. Path lengths & diameter\n",
    "L_G = nx.average_shortest_path_length(G_cc)\n",
    "diam_G = nx.diameter(G_cc)\n",
    "print(f\"Avg shortest path (L_G): {L_G:.4f}, Diameter: {diam_G}\")\n",
    "\n",
    "# --- 7. Small-world comparison (undirected random G(n,m))\n",
    "n_cc, m_cc = G_cc.number_of_nodes(), G_cc.number_of_edges()\n",
    "R = nx.gnm_random_graph(n = n_cc, m = m_cc, seed=41)\n",
    "\n",
    "C_R = nx.average_clustering(R)\n",
    "L_R = nx.average_shortest_path_length(R)\n",
    "sigma  = (C_G / C_R) / (L_G / L_R)\n",
    "print(\"Random avg clustering (C_R):\", round(C_R,4))\n",
    "print(\"Random avg shortest path (L_R):\", round(L_R,4))\n",
    "print(f\"Small-world coefficient σ = {sigma:.3f}\")\n",
    "\n",
    "# --- 8. Assortativity (directed)\n",
    "r_in_in   = nx.degree_assortativity_coefficient(G, x='in',  y='in')\n",
    "r_out_out = nx.degree_assortativity_coefficient(G, x='out', y='out')\n",
    "print(f\"In-in assortativity: {r_in_in:.4f}, Out-out assortativity: {r_out_out:.4f}\")\n",
    "\n",
    "# --- 9. Core decomposition (undirected)\n",
    "core_nums = nx.core_number(Gu)\n",
    "print(\"Top 5 core numbers:\", sorted(core_nums.items(), key=lambda x: x[1], reverse=True)[:5])\n",
    "\n",
    "# --- 10. Directed triangle count (3-cycles)\n",
    "count_3 = 0\n",
    "import itertools\n",
    "for trio in itertools.combinations(G.nodes, 3):\n",
    "    for perm in itertools.permutations(trio, 3):\n",
    "        u,v,w = perm\n",
    "        if G.has_edge(u, v) and G.has_edge(v, w) and G.has_edge(w, u):\n",
    "            count_3 += 1\n",
    "count_3 //= 6\n",
    "print(f\"Number of directed 3-cycles: {count_3}\")\n"
   ]
  }
 ],
 "metadata": {
  "kernelspec": {
   "display_name": "neuro",
   "language": "python",
   "name": "python3"
  },
  "language_info": {
   "codemirror_mode": {
    "name": "ipython",
    "version": 3
   },
   "file_extension": ".py",
   "mimetype": "text/x-python",
   "name": "python",
   "nbconvert_exporter": "python",
   "pygments_lexer": "ipython3",
   "version": "3.13.1"
  }
 },
 "nbformat": 4,
 "nbformat_minor": 5
}
