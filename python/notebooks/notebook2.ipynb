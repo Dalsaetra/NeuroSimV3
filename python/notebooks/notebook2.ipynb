{
 "cells": [
  {
   "cell_type": "code",
   "execution_count": 1,
   "id": "f83816af",
   "metadata": {},
   "outputs": [],
   "source": [
    "# Append src directory to path\n",
    "import sys\n",
    "sys.path.append('C:\\\\Users\\\\kingt\\\\Dropbox\\\\Programming\\\\NeuralSimV3\\\\NeuroSimV3\\\\python\\\\src')"
   ]
  },
  {
   "cell_type": "code",
   "execution_count": 2,
   "id": "df3cb064",
   "metadata": {},
   "outputs": [],
   "source": [
    "%load_ext autoreload\n",
    "%autoreload 2"
   ]
  },
  {
   "cell_type": "code",
   "execution_count": 3,
   "id": "2fd1c1be",
   "metadata": {},
   "outputs": [],
   "source": [
    "import numpy as np\n",
    "import matplotlib.pyplot as plt\n",
    "\n",
    "\n",
    "from neuron_population import NeuronPopulation\n",
    "from connectome import Connectome\n",
    "from overhead import Simulation"
   ]
  },
  {
   "cell_type": "code",
   "execution_count": 4,
   "id": "9c42b7be",
   "metadata": {},
   "outputs": [],
   "source": [
    "dt = 0.1"
   ]
  },
  {
   "cell_type": "code",
   "execution_count": 5,
   "id": "8b45706f",
   "metadata": {},
   "outputs": [],
   "source": [
    "# Neuron population parameters\n",
    "layer_distribution = [2, 12, 2]\n",
    "n_layers = 3\n",
    "neuron_types = [\"TRN\", \"p23\", \"nb\"]\n",
    "n_neuron_types = len(neuron_types)\n",
    "inhibitory = [False, False, True]\n",
    "dist_layer1 = np.array([1, 0, 0])\n",
    "dist_layer2 = np.array([0, 8, 2])\n",
    "dist_layer3 = np.array([1, 0, 0])\n",
    "neuron_distribution = [dist_layer1, dist_layer2, dist_layer3]\n",
    "threshold_decay = np.exp(-dt / 5)"
   ]
  },
  {
   "cell_type": "code",
   "execution_count": 6,
   "id": "2b824148",
   "metadata": {},
   "outputs": [],
   "source": [
    "neuron_pop = NeuronPopulation(\n",
    "    layer_distribution,\n",
    "    neuron_distribution,\n",
    "    neuron_types,\n",
    "    inhibitory,\n",
    "    threshold_decay,\n",
    "    threshold_mult=1.15\n",
    ")"
   ]
  },
  {
   "cell_type": "code",
   "execution_count": 7,
   "id": "0991eadb",
   "metadata": {},
   "outputs": [],
   "source": [
    "# Connectome\n",
    "max_synapses = 12\n",
    "synapse_strength = np.ones((n_layers, n_layers))\n",
    "# neuron_types = [\"p23\", \"TRN\", \"b\", \"nb\"]\n",
    "connectivity_probability = np.ones((n_layers, n_layers, n_neuron_types, n_neuron_types+2))\n",
    "\n",
    "\n",
    "connectivity_probability[:,:,:,-2] = 0.0  # Self connections\n",
    "connectivity_probability[:,:,:,-1] = 0.0  # No empty connections\n",
    "# No inter-connections for input and output layers\n",
    "connectivity_probability[0, 0, :, :-2] = 0\n",
    "connectivity_probability[2, 2, :, :-2] = 0\n",
    "# Only flow in one direction\n",
    "connectivity_probability[1, 0, :, :-2] = 0.0\n",
    "connectivity_probability[2, 1, :, :-2] = 0.0\n",
    "connectivity_probability[2, 0, :, :-2] = 0.0\n",
    "# No jump from input to output\n",
    "connectivity_probability[0, 2, :, :-2] = 0.0"
   ]
  },
  {
   "cell_type": "code",
   "execution_count": 8,
   "id": "3356d1ce",
   "metadata": {},
   "outputs": [],
   "source": [
    "connectome = Connectome(\n",
    "    max_synapses,\n",
    "    neuron_pop,\n",
    "    connectivity_probability,\n",
    "    synapse_strength,\n",
    ")"
   ]
  },
  {
   "cell_type": "code",
   "execution_count": 9,
   "id": "90c0e0a9",
   "metadata": {},
   "outputs": [
    {
     "name": "stdout",
     "output_type": "stream",
     "text": [
      "Sigma (small-world if > 1): 1.0569\n",
      "Omega (small-world if close to 0): -0.1547\n"
     ]
    },
    {
     "data": {
      "text/plain": [
       "(1.0568998822682227, -0.15465784215784217)"
      ]
     },
     "execution_count": 9,
     "metadata": {},
     "output_type": "execute_result"
    }
   ],
   "source": [
    "connectome.evaluate_small_world()"
   ]
  },
  {
   "cell_type": "code",
   "execution_count": 10,
   "id": "d7b41a6d",
   "metadata": {},
   "outputs": [
    {
     "name": "stdout",
     "output_type": "stream",
     "text": [
      "Warning: When  cdn_resources is 'local' jupyter notebook has issues displaying graphics on chrome/safari. Use cdn_resources='in_line' or cdn_resources='remote' if you have issues viewing graphics in a notebook.\n",
      "connectome.html\n",
      "Saved interactive graph to connectome.html\n"
     ]
    }
   ],
   "source": [
    "connectome.interactive()"
   ]
  },
  {
   "cell_type": "code",
   "execution_count": 11,
   "id": "2292e06d",
   "metadata": {},
   "outputs": [
    {
     "data": {
      "text/plain": [
       "array([[10,  2, 10, 11, 11, 12, 13, 10,  7, 13,  3, 11],\n",
       "       [11,  9,  9,  6,  7,  2,  5,  4,  9, 12,  7, 10],\n",
       "       [15, 14,  8,  8,  9, 14,  7,  8, 11, 15, 13,  6],\n",
       "       [ 6,  5,  7,  4,  5,  2,  6, 11,  7, 14, 15,  5],\n",
       "       [ 8, 14,  5,  3, 11, 10, 14, 11, 10,  2, 12, 10],\n",
       "       [10,  3,  6,  9,  9,  9,  2,  9,  6,  2,  3,  6],\n",
       "       [ 7, 14,  2, 13, 10,  4, 14,  5, 14, 12,  8,  3],\n",
       "       [15, 10,  6, 13, 10,  5, 14, 11, 10,  8,  9,  2],\n",
       "       [11,  9, 10,  6,  6, 14, 15,  2, 14, 11, 12, 15],\n",
       "       [ 4, 10, 14, 13, 10, 10,  3, 15,  4,  3,  5,  7],\n",
       "       [ 2,  6,  8,  7, 11,  2,  5,  8,  4, 13,  7,  8],\n",
       "       [ 4, 14,  6,  4, 10, 10,  8,  7,  7, 15, 12,  3],\n",
       "       [15,  9, 15, 15,  2, 14, 11, 13,  3,  2,  7,  6],\n",
       "       [ 7,  4, 11, 11,  4, 12,  6, 11, 14,  6,  6,  4],\n",
       "       [ 0,  0,  0,  0,  0,  0,  0,  0,  0,  0,  0,  0],\n",
       "       [ 0,  0,  0,  0,  0,  0,  0,  0,  0,  0,  0,  0]])"
      ]
     },
     "execution_count": 11,
     "metadata": {},
     "output_type": "execute_result"
    }
   ],
   "source": [
    "connectome.M"
   ]
  },
  {
   "cell_type": "code",
   "execution_count": 12,
   "id": "54a8292e",
   "metadata": {},
   "outputs": [
    {
     "data": {
      "text/plain": [
       "array([[False, False, False, False, False, False, False, False, False,\n",
       "        False, False, False],\n",
       "       [False, False, False, False, False, False, False, False, False,\n",
       "        False, False, False],\n",
       "       [False, False, False, False, False, False, False, False, False,\n",
       "        False, False, False],\n",
       "       [False, False, False, False, False, False, False, False, False,\n",
       "        False, False, False],\n",
       "       [False, False, False, False, False, False, False, False, False,\n",
       "        False, False, False],\n",
       "       [False, False, False, False, False, False, False, False, False,\n",
       "        False, False, False],\n",
       "       [False, False, False, False, False, False, False, False, False,\n",
       "        False, False, False],\n",
       "       [False, False, False, False, False, False, False, False, False,\n",
       "        False, False, False],\n",
       "       [False, False, False, False, False, False, False, False, False,\n",
       "        False, False, False],\n",
       "       [False, False, False, False, False, False, False, False, False,\n",
       "        False, False, False],\n",
       "       [False, False, False, False, False, False, False, False, False,\n",
       "        False, False, False],\n",
       "       [False, False, False, False, False, False, False, False, False,\n",
       "        False, False, False],\n",
       "       [False, False, False, False, False, False, False, False, False,\n",
       "        False, False, False],\n",
       "       [False, False, False, False, False, False, False, False, False,\n",
       "        False, False, False],\n",
       "       [ True,  True,  True,  True,  True,  True,  True,  True,  True,\n",
       "         True,  True,  True],\n",
       "       [ True,  True,  True,  True,  True,  True,  True,  True,  True,\n",
       "         True,  True,  True]])"
      ]
     },
     "execution_count": 12,
     "metadata": {},
     "output_type": "execute_result"
    }
   ],
   "source": [
    "connectome.NC"
   ]
  },
  {
   "cell_type": "code",
   "execution_count": 13,
   "id": "bd62c552",
   "metadata": {},
   "outputs": [
    {
     "name": "stdout",
     "output_type": "stream",
     "text": [
      "Connections per neuron:\n",
      "Out: [12 12 12 12 12 12 12 12 12 12 12 12 12 12  0  0]\n",
      "In: [ 0  0 10  7  7  7 10 10  6  6  9 10  7  7 10  7]\n",
      "Total: [12 12 22 19 19 19 22 22 18 18 21 22 19 19 10  7]\n"
     ]
    }
   ],
   "source": [
    "outw, inw, total = connectome.connections_per_neuron()\n",
    "print(\"Connections per neuron:\")\n",
    "print(\"Out:\", outw)\n",
    "print(\"In:\", inw)\n",
    "print(\"Total:\", total)"
   ]
  },
  {
   "cell_type": "code",
   "execution_count": 14,
   "id": "676839e3",
   "metadata": {},
   "outputs": [
    {
     "data": {
      "image/png": "[encoded data removed]",
      "text/plain": [
       "<Figure size 1200x400 with 3 Axes>"
      ]
     },
     "metadata": {},
     "output_type": "display_data"
    }
   ],
   "source": [
    "# Plot 3 connections histograms\n",
    "plt.figure(figsize=(12, 4))\n",
    "plt.subplot(1, 3, 1)\n",
    "plt.hist(outw, bins=30, color='blue', alpha=0.7, label='Outgoing')\n",
    "plt.title('Outgoing Connections per Neuron')\n",
    "plt.xlabel('Number of Connections')\n",
    "plt.ylabel('Frequency')\n",
    "plt.subplot(1, 3, 2)\n",
    "plt.hist(inw, bins=30, color='green', alpha=0.7, label='Incoming')\n",
    "plt.title('Incoming Connections per Neuron')\n",
    "plt.xlabel('Number of Connections')\n",
    "plt.ylabel('Frequency')\n",
    "plt.subplot(1, 3, 3)\n",
    "plt.hist(total, bins=30, color='red', alpha=0.7, label='Total')\n",
    "plt.title('Total Connections per Neuron')\n",
    "plt.xlabel('Number of Connections')\n",
    "plt.ylabel('Frequency')\n",
    "plt.tight_layout()\n",
    "plt.show()"
   ]
  },
  {
   "cell_type": "code",
   "execution_count": 15,
   "id": "8bcdc149",
   "metadata": {},
   "outputs": [],
   "source": [
    "# connectome.distances"
   ]
  },
  {
   "cell_type": "code",
   "execution_count": 16,
   "id": "25acf933",
   "metadata": {},
   "outputs": [],
   "source": [
    "sim = Simulation(connectome, dt, stepper_type=\"adapt\")\n",
    "sim.plasticity.mirror_neurons = [(0, -2), (1, -1)]"
   ]
  },
  {
   "cell_type": "code",
   "execution_count": 17,
   "id": "b53bbaf5",
   "metadata": {},
   "outputs": [],
   "source": [
    "weights_t0 = connectome.W.copy()"
   ]
  },
  {
   "cell_type": "code",
   "execution_count": 18,
   "id": "7f50074e",
   "metadata": {},
   "outputs": [],
   "source": [
    "# connectome.W.copy()"
   ]
  },
  {
   "cell_type": "code",
   "execution_count": 19,
   "id": "da28a50a",
   "metadata": {},
   "outputs": [],
   "source": [
    "I_ext = np.zeros((neuron_pop.n_neurons))\n",
    "I_ext[1] = 100\n",
    "I_ext[2:-2] = 50\n",
    "\n",
    "# I_ext = 100\n",
    "\n",
    "for i in range(50000):\n",
    "    sim.step(I_ext=I_ext)\n",
    "\n",
    "weights_t1 = connectome.W.copy()"
   ]
  },
  {
   "cell_type": "code",
   "execution_count": 20,
   "id": "9d1023db",
   "metadata": {},
   "outputs": [],
   "source": [
    "# sim.plasticity.A = 0.0"
   ]
  },
  {
   "cell_type": "code",
   "execution_count": 21,
   "id": "194a4cdc",
   "metadata": {},
   "outputs": [],
   "source": [
    "I_ext = np.zeros((neuron_pop.n_neurons))\n",
    "I_ext[0] = 100\n",
    "I_ext[2:-2] = 50\n",
    "\n",
    "# I_ext = 100\n",
    "\n",
    "for i in range(50000):\n",
    "    sim.step(I_ext=I_ext)\n",
    "\n",
    "weights_t1 = connectome.W.copy()"
   ]
  },
  {
   "cell_type": "code",
   "execution_count": 22,
   "id": "30bad97f",
   "metadata": {},
   "outputs": [],
   "source": [
    "# sim.plasticity.activity_trace"
   ]
  },
  {
   "cell_type": "code",
   "execution_count": 23,
   "id": "bde28062",
   "metadata": {},
   "outputs": [
    {
     "data": {
      "text/plain": [
       "array([0.        , 0.        , 0.62968699, 1.18663353, 0.15401487,\n",
       "       0.06350606, 0.10449741, 0.45102343, 0.16155622, 0.10387199,\n",
       "       1.10252551, 0.73380215, 0.80748473, 0.57714524, 0.17856736,\n",
       "       0.50992712])"
      ]
     },
     "execution_count": 23,
     "metadata": {},
     "output_type": "execute_result"
    }
   ],
   "source": [
    "sim.synapse_dynamics.g_GABA_A\n",
    "sim.synapse_dynamics.g_NMDA"
   ]
  },
  {
   "cell_type": "code",
   "execution_count": 24,
   "id": "18201338",
   "metadata": {},
   "outputs": [
    {
     "data": {
      "text/plain": [
       "array([False, False, False,  True, False,  True,  True, False, False,\n",
       "       False, False, False, False, False, False, False])"
      ]
     },
     "execution_count": 24,
     "metadata": {},
     "output_type": "execute_result"
    }
   ],
   "source": [
    "neuron_pop.inhibitory_mask"
   ]
  },
  {
   "cell_type": "code",
   "execution_count": 25,
   "id": "7e0e9031",
   "metadata": {},
   "outputs": [
    {
     "data": {
      "text/plain": [
       "array([-66.14730444, -59.98139614, -60.20432109, -57.19561604,\n",
       "       -60.02342804, -57.96450205, -58.75827411, -58.21915177,\n",
       "       -57.83124144, -58.33879649, -57.35668293, -59.03527508,\n",
       "       -58.88442596, -57.2737195 , -61.27932064, -61.01361469])"
      ]
     },
     "execution_count": 25,
     "metadata": {},
     "output_type": "execute_result"
    }
   ],
   "source": [
    "sim.neuron_states.V"
   ]
  },
  {
   "cell_type": "code",
   "execution_count": 26,
   "id": "59e177ec",
   "metadata": {},
   "outputs": [
    {
     "data": {
      "text/plain": [
       "array([[0.25503436, 0.27004725, 0.26795356, 0.03111429, 0.        ,\n",
       "        0.43452093, 0.05642794, 0.04594904, 0.11133589, 0.20791313,\n",
       "        0.63195897, 0.27340589],\n",
       "       [0.2464037 , 0.00279237, 0.17038142, 0.08474379, 0.09008363,\n",
       "        0.1372486 , 0.09323208, 0.17411231, 0.12606692, 0.31420127,\n",
       "        0.25140868, 0.13402671],\n",
       "       [0.26871929, 0.2204196 , 0.58457826, 0.44661705, 0.02240431,\n",
       "        0.43966379, 0.65992616, 0.51642672, 0.38073239, 0.24644022,\n",
       "        0.43942521, 0.28708352],\n",
       "       [0.2653216 , 0.16314345, 0.05080189, 0.36570878, 0.09900142,\n",
       "        0.35685833, 0.45217912, 0.05456264, 0.        , 0.27968412,\n",
       "        0.43263281, 0.33139877],\n",
       "       [0.34011744, 0.24758435, 0.61199043, 0.49230851, 0.        ,\n",
       "        0.11840475, 0.25016099, 0.42354321, 0.1705493 , 0.36174658,\n",
       "        0.65989953, 0.18774338],\n",
       "       [0.36742204, 0.37065743, 0.33577841, 0.59201959, 0.42407636,\n",
       "        0.06700249, 0.38263147, 0.08650248, 0.19530861, 0.20416053,\n",
       "        0.18430233, 0.19891003],\n",
       "       [0.22141766, 0.2503516 , 0.22452151, 0.41703002, 0.08773654,\n",
       "        0.14719271, 0.14767599, 0.90362547, 0.48917494, 0.24672564,\n",
       "        0.16782879, 0.64308061],\n",
       "       [0.15183458, 0.14016873, 0.3653885 , 0.68743412, 0.05188139,\n",
       "        0.40252696, 0.20602729, 0.16365334, 0.17850892, 0.52118169,\n",
       "        0.33926991, 0.2271925 ],\n",
       "       [0.42567546, 0.39896766, 0.38384601, 0.01539723, 0.12831094,\n",
       "        0.17449536, 0.0616122 , 0.09919124, 0.1087667 , 0.170788  ,\n",
       "        0.25706265, 0.46306585],\n",
       "       [0.03243294, 0.27551834, 0.38163177, 0.79361529, 0.30179074,\n",
       "        0.35322037, 0.42960784, 0.47951013, 0.70533175, 0.41400109,\n",
       "        0.42569762, 0.37150146],\n",
       "       [0.28340455, 0.15873597, 0.21636586, 0.34161541, 0.19197615,\n",
       "        0.09355901, 0.51206583, 0.48597068, 0.4977802 , 0.53739993,\n",
       "        0.38232223, 0.19170953],\n",
       "       [0.37798394, 0.16118227, 0.25215638, 0.14554259, 0.1645044 ,\n",
       "        0.25996563, 0.29039478, 0.34479099, 0.1016064 , 0.5110678 ,\n",
       "        0.18527951, 0.30627216],\n",
       "       [0.73317163, 0.23575396, 0.40258325, 0.24279674, 0.33960997,\n",
       "        0.43468969, 0.5064407 , 0.30420923, 0.29994556, 0.15834658,\n",
       "        0.45026553, 0.09561817],\n",
       "       [0.16066665, 0.44914589, 0.1908577 , 0.        , 0.44726786,\n",
       "        0.4882099 , 0.27937375, 0.18001825, 0.58741289, 0.1372832 ,\n",
       "        0.04348406, 0.24901938],\n",
       "       [0.        , 0.        , 0.        , 0.        , 0.        ,\n",
       "        0.        , 0.        , 0.        , 0.        , 0.        ,\n",
       "        0.        , 0.        ],\n",
       "       [0.        , 0.        , 0.        , 0.        , 0.        ,\n",
       "        0.        , 0.        , 0.        , 0.        , 0.        ,\n",
       "        0.        , 0.        ]])"
      ]
     },
     "execution_count": 26,
     "metadata": {},
     "output_type": "execute_result"
    }
   ],
   "source": [
    "weights_t1 # [neuron_pop.inhibitory_mask]"
   ]
  },
  {
   "cell_type": "code",
   "execution_count": 27,
   "id": "3b34bc6b",
   "metadata": {},
   "outputs": [
    {
     "data": {
      "text/plain": [
       "array([[-0.93902944, -0.80996167, -0.98659756, -0.08218654,  0.        ,\n",
       "        -0.57543166, -0.08396445, -0.1691831 , -0.2964623 , -0.30937357,\n",
       "        -0.92566282, -0.72218531],\n",
       "       [-1.41118197, -0.01561444, -0.95274142, -0.62920939, -0.57704757,\n",
       "        -0.82305171, -0.27726936, -0.93112529, -0.70494295, -0.85447806,\n",
       "        -1.61044536, -1.09258948],\n",
       "       [-0.33608391, -0.54928134, -0.93709958, -0.71594289, -0.04106427,\n",
       "        -1.09563357, -1.50562052, -0.82785025, -0.77068576, -0.30821975,\n",
       "        -0.49955755, -0.73009883],\n",
       "       [-0.85001062, -0.2790557 , -0.12836209, -0.88459657, -0.16934122,\n",
       "        -0.95780865, -1.44864593, -0.13256475,  0.        , -0.50727931,\n",
       "        -0.7039981 , -0.56685521],\n",
       "       [-0.67005469, -0.76969609, -0.93409911, -0.94741534,  0.        ,\n",
       "        -0.43409651, -0.77770643, -1.07581411, -0.62526933, -0.94582324,\n",
       "        -0.80184094, -0.68830641],\n",
       "       [-1.50368878, -0.80652293, -1.21936976, -1.63970425, -1.17455541,\n",
       "        -0.18557538, -1.11818477, -0.23958411, -0.70925766, -0.59662944,\n",
       "        -0.40102812, -0.72233612],\n",
       "       [-0.45556451, -0.57517756, -0.41439752, -0.43138053, -0.22932413,\n",
       "        -0.26080301, -0.3392825 , -1.03526198, -1.1238692 , -0.21643694,\n",
       "        -0.24552066, -0.91086852],\n",
       "       [-0.24432331, -0.60942834, -1.42018735, -1.1025862 , -0.22557089,\n",
       "        -0.72071318, -0.71236868, -0.49350242, -0.77612453, -1.17528706,\n",
       "        -0.94135202, -0.71412641],\n",
       "       [-1.19632263, -1.01367872, -1.56254875, -0.05576302, -0.46469443,\n",
       "        -0.56582647, -0.09934302, -0.29034368, -0.35269177, -0.47998433,\n",
       "        -0.34286592, -0.74664364],\n",
       "       [-0.0578533 , -0.7203332 , -0.84274597, -0.82532436, -0.78902148,\n",
       "        -0.92348248, -0.59867516, -0.55440106, -1.25815825, -0.57692654,\n",
       "        -0.49525421, -0.76241672],\n",
       "       [-0.78505582, -0.53916684, -0.42459445, -0.99254107, -0.50593562,\n",
       "        -0.25916678, -0.84313352, -0.95366458, -1.27620043, -0.77384363,\n",
       "        -1.11081203, -0.37620909],\n",
       "       [-1.02636908, -0.52505868, -0.91260899, -0.39520308, -0.66781337,\n",
       "        -1.05534275, -0.61771346, -1.08302206, -0.31915558, -0.80947894,\n",
       "        -0.24843978, -0.63227846],\n",
       "       [-1.0993242 , -0.54211225, -0.60363698, -0.36405163, -0.91909766,\n",
       "        -1.24730452, -1.30992147, -0.4299811 , -0.56166133, -0.42853857,\n",
       "        -1.29060062, -0.31770861],\n",
       "       [-0.4418575 , -1.07736327, -0.47178178,  0.        , -1.07285845,\n",
       "        -0.58292076, -0.88307126, -0.44498772, -1.65118705, -0.43393788,\n",
       "        -0.13744859, -0.59732114],\n",
       "       [ 0.        ,  0.        ,  0.        ,  0.        ,  0.        ,\n",
       "         0.        ,  0.        ,  0.        ,  0.        ,  0.        ,\n",
       "         0.        ,  0.        ],\n",
       "       [ 0.        ,  0.        ,  0.        ,  0.        ,  0.        ,\n",
       "         0.        ,  0.        ,  0.        ,  0.        ,  0.        ,\n",
       "         0.        ,  0.        ]])"
      ]
     },
     "execution_count": 27,
     "metadata": {},
     "output_type": "execute_result"
    }
   ],
   "source": [
    "weights_t1 -   weights_t0"
   ]
  },
  {
   "cell_type": "code",
   "execution_count": 28,
   "id": "e7dca28e",
   "metadata": {},
   "outputs": [
    {
     "data": {
      "image/png": "[encoded data removed]",
      "text/plain": [
       "<Figure size 640x480 with 1 Axes>"
      ]
     },
     "metadata": {},
     "output_type": "display_data"
    }
   ],
   "source": [
    "plt.plot(np.array(sim.stats.Vs)[:, neuron_pop.get_neurons_from_layer(2)])\n",
    "plt.show()"
   ]
  },
  {
   "cell_type": "code",
   "execution_count": 29,
   "id": "c314082b",
   "metadata": {},
   "outputs": [
    {
     "data": {
      "image/png": "[encoded data removed]",
      "text/plain": [
       "<Figure size 640x480 with 1 Axes>"
      ]
     },
     "metadata": {},
     "output_type": "display_data"
    }
   ],
   "source": [
    "plt.plot(np.array(sim.stats.spikes)[:, neuron_pop.get_neurons_from_layer(2)])\n",
    "plt.show()"
   ]
  }
 ],
 "metadata": {
  "kernelspec": {
   "display_name": "neuro",
   "language": "python",
   "name": "python3"
  },
  "language_info": {
   "codemirror_mode": {
    "name": "ipython",
    "version": 3
   },
   "file_extension": ".py",
   "mimetype": "text/x-python",
   "name": "python",
   "nbconvert_exporter": "python",
   "pygments_lexer": "ipython3",
   "version": "3.13.1"
  }
 },
 "nbformat": 4,
 "nbformat_minor": 5
}
